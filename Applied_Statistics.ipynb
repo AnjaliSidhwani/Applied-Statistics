{
  "nbformat": 4,
  "nbformat_minor": 0,
  "metadata": {
    "colab": {
      "provenance": []
    },
    "kernelspec": {
      "name": "python3",
      "display_name": "Python 3"
    },
    "language_info": {
      "name": "python"
    }
  },
  "cells": [
    {
      "cell_type": "code",
      "execution_count": 1,
      "metadata": {
        "colab": {
          "base_uri": "https://localhost:8080/"
        },
        "id": "pONeiKbGcT57",
        "outputId": "be475594-a1d5-4c71-d9b6-dff7a30e57b1"
      },
      "outputs": [
        {
          "output_type": "stream",
          "name": "stdout",
          "text": [
            "Mounted at /content/gdrive\n"
          ]
        }
      ],
      "source": [
        "from google.colab import drive\n",
        "drive.mount(\"/content/gdrive\")"
      ]
    },
    {
      "cell_type": "markdown",
      "source": [
        "Importing all libraries required for this project"
      ],
      "metadata": {
        "id": "bBD3yZoheAZl"
      }
    },
    {
      "cell_type": "code",
      "source": [
        "import numpy as np\n",
        "import pandas as pd\n",
        "import matplotlib.pyplot as plt\n",
        "import seaborn as sns\n",
        "from scipy import stats\n",
        "from scipy.stats import binom\n",
        "from scipy.stats import ttest_ind\n",
        "from statsmodels.stats.proportion import proportions_ztest  \n"
      ],
      "metadata": {
        "id": "b2mUhPPWdCHK"
      },
      "execution_count": 3,
      "outputs": []
    },
    {
      "cell_type": "code",
      "source": [
        "pd.set_option('display.float_format', lambda x:'%3f' %x)"
      ],
      "metadata": {
        "id": "kf-ohO17dEjb"
      },
      "execution_count": 4,
      "outputs": []
    },
    {
      "cell_type": "code",
      "source": [
        "%matplotlib inline"
      ],
      "metadata": {
        "id": "OHI74p-WdGob"
      },
      "execution_count": 5,
      "outputs": []
    },
    {
      "cell_type": "markdown",
      "source": [
        " 1. joint probability"
      ],
      "metadata": {
        "id": "ESKcxlHbx1Np"
      }
    },
    {
      "cell_type": "markdown",
      "source": [
        "1.A. the joint probability of the people who planned to purchase and actually placed an order"
      ],
      "metadata": {
        "id": "R5p78LEVdJW5"
      }
    },
    {
      "cell_type": "code",
      "source": [
        "#P_Planned : Probability of the people who planned to purchase the product A\n",
        "#P_Actual : Probability of the people who actually purchased the product A\n",
        "#P_Joint : people who planned to purchase and actually placed an order\n",
        "\n",
        "P_Planned=2000\n",
        "P_Actual=400\n",
        "\n",
        "# P_Joint =P_Actual/P_Planned\n",
        "\n",
        "P_Joint= 400/2000\n",
        "print(\"People who planned to purchase and actually placed an order: \", P_Joint)"
      ],
      "metadata": {
        "colab": {
          "base_uri": "https://localhost:8080/"
        },
        "id": "Z5bAC9TZdWFV",
        "outputId": "9b36db54-3f11-4935-b5f1-19f6ed0fd9c6"
      },
      "execution_count": 27,
      "outputs": [
        {
          "output_type": "stream",
          "name": "stdout",
          "text": [
            "People who planned to purchase and actually placed an order:  0.2\n"
          ]
        }
      ]
    },
    {
      "cell_type": "markdown",
      "source": [
        "1.B.the joint probability of the people who planned to purchase and actually placed an order, given that \n",
        "people planned to purchase. "
      ],
      "metadata": {
        "id": "bmJ_1WMGda6F"
      }
    },
    {
      "cell_type": "code",
      "source": [
        "#P_Planned : People who planned to purchase \n",
        "#P_Actual : People who actually purchased given that people planned to purchase\n",
        "# Joint Probability = People who planned to purchase/People who actually purchased given that people planned to purchase\n",
        "\n",
        "P_Planned=500\n",
        "P_Actual=400\n",
        "\n",
        "# P_Joint =P_Actual/P_Planned\n",
        "\n",
        "P_Joint= 400/500\n",
        "print (\"People who planned to purchase and actually placed an order, given that people planned to purchase: \", P_Joint)"
      ],
      "metadata": {
        "colab": {
          "base_uri": "https://localhost:8080/"
        },
        "id": "4VmQPE5OdhXe",
        "outputId": "e16d8078-5440-4102-f7c2-779e4819fd94"
      },
      "execution_count": 29,
      "outputs": [
        {
          "output_type": "stream",
          "name": "stdout",
          "text": [
            "People who planned to purchase and actually placed an order, given that people planned to purchase:  0.8\n"
          ]
        }
      ]
    },
    {
      "cell_type": "markdown",
      "source": [
        "2. An electrical manufacturing company conducts quality checks at specified periods on the products it manufactures. Historically, the \n",
        "failure rate for the manufactured item is 5%. Suppose a random sample of 10 manufactured items is selected. Answer the following \n",
        "questions."
      ],
      "metadata": {
        "id": "zYvn8UaLxjm3"
      }
    },
    {
      "cell_type": "code",
      "source": [
        "# Number of trials N\n",
        "n = 10\n",
        "# probability of failure p\n",
        "p=0.05\n",
        "\n",
        "#different possible number of defective item\n",
        "k=np.arange(0,12)\n",
        "\n",
        "binomial = binom.pmf(k,n,p)\n",
        "binomial\n"
      ],
      "metadata": {
        "colab": {
          "base_uri": "https://localhost:8080/"
        },
        "id": "4l-LrXj2tm9I",
        "outputId": "73dc03ae-b7b7-47a3-a1d4-d6c9886e22f8"
      },
      "execution_count": 48,
      "outputs": [
        {
          "output_type": "execute_result",
          "data": {
            "text/plain": [
              "array([5.98736939e-01, 3.15124705e-01, 7.46347985e-02, 1.04750594e-02,\n",
              "       9.64808106e-04, 6.09352488e-05, 2.67259863e-06, 8.03789062e-08,\n",
              "       1.58642578e-09, 1.85546875e-11, 9.76562500e-14, 0.00000000e+00])"
            ]
          },
          "metadata": {},
          "execution_count": 48
        }
      ]
    },
    {
      "cell_type": "markdown",
      "source": [
        "2.A.  Probability that none of the items are defective?"
      ],
      "metadata": {
        "id": "TYhoWTihoasl"
      }
    },
    {
      "cell_type": "code",
      "source": [
        "print(\"Probability that none of the items are defective: \", binomial[0])"
      ],
      "metadata": {
        "colab": {
          "base_uri": "https://localhost:8080/"
        },
        "id": "0-eC6tEvx5s7",
        "outputId": "e047e353-e183-4ebe-9427-16d1b0f26173"
      },
      "execution_count": 49,
      "outputs": [
        {
          "output_type": "stream",
          "name": "stdout",
          "text": [
            "Probability that none of the items are defective:  0.5987369392383787\n"
          ]
        }
      ]
    },
    {
      "cell_type": "markdown",
      "source": [
        "2.B.Probability that exactly one of the items is defective?"
      ],
      "metadata": {
        "id": "nP8QtwYByNRP"
      }
    },
    {
      "cell_type": "code",
      "source": [
        "print(\"Probability that one of the items is defective: \", binomial[1])"
      ],
      "metadata": {
        "colab": {
          "base_uri": "https://localhost:8080/"
        },
        "id": "PQMxlZv5yUDm",
        "outputId": "ae90b4dc-3c80-43e5-e7f9-99d23e8ff37a"
      },
      "execution_count": 50,
      "outputs": [
        {
          "output_type": "stream",
          "name": "stdout",
          "text": [
            "Probability that one of the items is defective:  0.3151247048623047\n"
          ]
        }
      ]
    },
    {
      "cell_type": "code",
      "source": [
        "cumulative = stats.binom.cdf(k,n,p)\n",
        "print(cumulative)"
      ],
      "metadata": {
        "colab": {
          "base_uri": "https://localhost:8080/"
        },
        "id": "klg5olNJyddB",
        "outputId": "03303b18-181a-48ff-cb7e-88b8bf031fef"
      },
      "execution_count": 51,
      "outputs": [
        {
          "output_type": "stream",
          "name": "stdout",
          "text": [
            "[0.59873694 0.91386164 0.98849644 0.9989715  0.99993631 0.99999725\n",
            " 0.99999992 1.         1.         1.         1.         1.        ]\n"
          ]
        }
      ]
    },
    {
      "cell_type": "markdown",
      "source": [
        "2.C. Probability that two or fewer of the items are defective?"
      ],
      "metadata": {
        "id": "Dip9vlqUyk99"
      }
    },
    {
      "cell_type": "code",
      "source": [
        "print(\"Probability that two or fewer of the items is defective: \", cumulative[2])"
      ],
      "metadata": {
        "colab": {
          "base_uri": "https://localhost:8080/"
        },
        "id": "bybKTZxSyqqI",
        "outputId": "f8b2876a-7e97-4042-a34a-82ccbfd310d5"
      },
      "execution_count": 52,
      "outputs": [
        {
          "output_type": "stream",
          "name": "stdout",
          "text": [
            "Probability that two or fewer of the items is defective:  0.9884964426207031\n"
          ]
        }
      ]
    },
    {
      "cell_type": "markdown",
      "source": [
        "2.D. Probability that three or more of the items are defective ?"
      ],
      "metadata": {
        "id": "m9_BdVeQzXFI"
      }
    },
    {
      "cell_type": "code",
      "source": [
        "print(\"Probability that three or more of the items is defective: \", 1-cumulative[2])"
      ],
      "metadata": {
        "colab": {
          "base_uri": "https://localhost:8080/"
        },
        "id": "1NnijsGW66nq",
        "outputId": "9eee07b0-4e13-422f-b3d5-8d137ce372f1"
      },
      "execution_count": 53,
      "outputs": [
        {
          "output_type": "stream",
          "name": "stdout",
          "text": [
            "Probability that three or more of the items is defective:  0.01150355737929687\n"
          ]
        }
      ]
    },
    {
      "cell_type": "markdown",
      "source": [
        "3. A car salesman sells on an average 3 cars per week"
      ],
      "metadata": {
        "id": "RDkSaqZrKbSa"
      }
    },
    {
      "cell_type": "code",
      "source": [
        "average = 3\n",
        "n=np.arange(0,15)\n",
        "poisson= stats.poisson.pmf(n,average)\n",
        "poisson"
      ],
      "metadata": {
        "colab": {
          "base_uri": "https://localhost:8080/"
        },
        "id": "gL8PAuZcL9Bs",
        "outputId": "92d7e7b5-8c0b-4f4b-8beb-e27f49a95b12"
      },
      "execution_count": 41,
      "outputs": [
        {
          "output_type": "execute_result",
          "data": {
            "text/plain": [
              "array([4.97870684e-02, 1.49361205e-01, 2.24041808e-01, 2.24041808e-01,\n",
              "       1.68031356e-01, 1.00818813e-01, 5.04094067e-02, 2.16040315e-02,\n",
              "       8.10151179e-03, 2.70050393e-03, 8.10151179e-04, 2.20950322e-04,\n",
              "       5.52375804e-05, 1.27471339e-05, 2.73152870e-06])"
            ]
          },
          "metadata": {},
          "execution_count": 41
        }
      ]
    },
    {
      "cell_type": "markdown",
      "source": [
        "3.A. What is Probability that in a given week he will sell some cars?"
      ],
      "metadata": {
        "id": "KR1pJqvbKz-7"
      }
    },
    {
      "cell_type": "code",
      "source": [
        "print(\"Probability that salesman will sell some cars in given week: \", 1-poisson[0])"
      ],
      "metadata": {
        "colab": {
          "base_uri": "https://localhost:8080/"
        },
        "id": "n1i5XYzIK03Q",
        "outputId": "e5dd6a1c-b0b9-44ac-a235-93c41ac3508f"
      },
      "execution_count": 42,
      "outputs": [
        {
          "output_type": "stream",
          "name": "stdout",
          "text": [
            "Probability that he will sell some cars in given week:  0.950212931632136\n"
          ]
        }
      ]
    },
    {
      "cell_type": "markdown",
      "source": [
        "3.B. What is Probability that in a given week he will sell 2 or more but less than 5 cars?"
      ],
      "metadata": {
        "id": "9m4mLWw2LHX9"
      }
    },
    {
      "cell_type": "code",
      "source": [
        "print(\"Probability that salesman will sell 2 or more and less than 5 cars in a given week: \", poisson[2]+poisson[3]+poisson[4])"
      ],
      "metadata": {
        "colab": {
          "base_uri": "https://localhost:8080/"
        },
        "id": "UP3-8vh5MtT3",
        "outputId": "4068226a-da41-4c5e-b169-0fe44f5b4cc4"
      },
      "execution_count": 43,
      "outputs": [
        {
          "output_type": "stream",
          "name": "stdout",
          "text": [
            "Probability that salesman will sell 2 or more and less than 5 cars in a given week:  0.6161149710523164\n"
          ]
        }
      ]
    },
    {
      "cell_type": "markdown",
      "source": [
        "3.C. Plot the poisson distribution function for cumulative probability of cars sold per-week vs number of cars sold per week."
      ],
      "metadata": {
        "id": "eUDzaJnbLIPx"
      }
    },
    {
      "cell_type": "code",
      "source": [
        "cumulative_poisson = stats.poisson.cdf(n,average)"
      ],
      "metadata": {
        "id": "PCbYpj2xNQ1P"
      },
      "execution_count": 45,
      "outputs": []
    },
    {
      "cell_type": "code",
      "source": [
        "plt.plot(n,cumulative_poisson, 'o-')\n",
        "plt.title('Poisson')\n",
        "plt.ylabel('Cumulative prob. of cars sold per-week')\n",
        "plt.xlabel('Number of cars sold per week')\n",
        "plt.show()"
      ],
      "metadata": {
        "colab": {
          "base_uri": "https://localhost:8080/",
          "height": 472
        },
        "id": "A0J-6qdMNhei",
        "outputId": "aa8bdbf2-cf8d-4807-f1fe-1260fd10451e"
      },
      "execution_count": 46,
      "outputs": [
        {
          "output_type": "display_data",
          "data": {
            "text/plain": [
              "<Figure size 640x480 with 1 Axes>"
            ],
            "image/png": "[encoded data removed]"
          },
          "metadata": {}
        }
      ]
    },
    {
      "cell_type": "markdown",
      "source": [
        "4. Accuracy in understanding orders for a speech based bot at a restaurant\n",
        "\n"
      ],
      "metadata": {
        "id": "lfHtfrQ-PZ8v"
      }
    },
    {
      "cell_type": "code",
      "source": [
        "# p: probability of success \n",
        "# n: number of friends \n",
        "# k: range for attempts\n",
        "\n",
        "p = 0.868\n",
        "n=3\n",
        "k=np.arange(0,7)\n",
        "\n",
        "binomial = stats.binom.pmf(k,n,p)\n",
        "binomial\n",
        "\n",
        "cumulative = stats.binom.cdf(k,n,p)\n",
        "print(cumulative)"
      ],
      "metadata": {
        "colab": {
          "base_uri": "https://localhost:8080/"
        },
        "id": "VNGA42nDQsFH",
        "outputId": "d6168165-743a-457b-b160-12deeb1afe99"
      },
      "execution_count": 59,
      "outputs": [
        {
          "output_type": "execute_result",
          "data": {
            "text/plain": [
              "array([0.00229997, 0.0453721 , 0.2983559 , 0.65397203, 0.        ,\n",
              "       0.        , 0.        ])"
            ]
          },
          "metadata": {},
          "execution_count": 59
        }
      ]
    },
    {
      "cell_type": "markdown",
      "source": [
        "4.A. What is the probability that all three orders will be recognised correctly?"
      ],
      "metadata": {
        "id": "SpGM12kQPhJu"
      }
    },
    {
      "cell_type": "code",
      "source": [
        "print(\"probability that all 3 orders will be recognised correctly: \", cumulative[3])"
      ],
      "metadata": {
        "colab": {
          "base_uri": "https://localhost:8080/"
        },
        "id": "9d6jJwBhUNoi",
        "outputId": "1e502c55-9880-4d92-f852-38dffdd22e75"
      },
      "execution_count": 63,
      "outputs": [
        {
          "output_type": "stream",
          "name": "stdout",
          "text": [
            "probability that all 3 orders will be recognised correctly:  0.9989715020621094\n"
          ]
        }
      ]
    },
    {
      "cell_type": "markdown",
      "source": [
        "4.B. What is the probability that none of the three orders will be recognised correctly?"
      ],
      "metadata": {
        "id": "vFTh5RrMPka9"
      }
    },
    {
      "cell_type": "code",
      "source": [
        "print(\"probability that none of the 3 orders will be recognised correctly: \", binomial[0])"
      ],
      "metadata": {
        "colab": {
          "base_uri": "https://localhost:8080/"
        },
        "id": "qvqYvRpOUacf",
        "outputId": "9bfcebb5-5553-419c-a1d2-874c426ee5e4"
      },
      "execution_count": 57,
      "outputs": [
        {
          "output_type": "stream",
          "name": "stdout",
          "text": [
            "probability that all 3 orders will be recognised correctly:  0.0022999680000000003\n"
          ]
        }
      ]
    },
    {
      "cell_type": "markdown",
      "source": [
        "4.C. What is the probability that at least two of the three orders will be recognised correctly?"
      ],
      "metadata": {
        "id": "peKlg51FPnCM"
      }
    },
    {
      "cell_type": "code",
      "source": [
        "print(\"probability that atleast 2 of 3 orders will be recognised correctly: \", binomial[2]+binomial[3])"
      ],
      "metadata": {
        "colab": {
          "base_uri": "https://localhost:8080/"
        },
        "id": "FTcZepnSUd-9",
        "outputId": "1f7ce77b-ccfa-47ef-c045-2c8061d28e29"
      },
      "execution_count": 60,
      "outputs": [
        {
          "output_type": "stream",
          "name": "stdout",
          "text": [
            "probability that all 3 orders will be recognised correctly:  0.952327936\n"
          ]
        }
      ]
    },
    {
      "cell_type": "markdown",
      "source": [
        "5. Explain 1 real life industry scenario (other than the ones mentioned above) where you can use the concepts learnt in this module of \n",
        "Applied Statistics to get data driven business solution\n",
        "\n",
        "\n",
        "This concepts can be applied for studying the buying pattern of a user on retail website. The calculations and assumptions can help to identify the customer's preference, choice as per gender, age or as per monthly shopping patterns. It can also help to understand if people in certain group have similar kind of preferences in shopping and so the model can suggest people to buy products like others have bought with similar pattern and taste"
      ],
      "metadata": {
        "id": "xbgoDT1eWa_i"
      }
    },
    {
      "cell_type": "markdown",
      "source": [
        "PART B. SPORTS"
      ],
      "metadata": {
        "id": "4gV_rHwjZXt7"
      }
    },
    {
      "cell_type": "markdown",
      "source": [
        "importing Basketball dataset"
      ],
      "metadata": {
        "id": "UlKltzY8Z0P5"
      }
    },
    {
      "cell_type": "code",
      "source": [
        "%cd /content/gdrive/My Drive/Colab Notebooks/\n",
        "df = pd.read_csv(\"Basketball.csv\")"
      ],
      "metadata": {
        "colab": {
          "base_uri": "https://localhost:8080/"
        },
        "id": "eNDCHkMXZu5t",
        "outputId": "40c601d9-00eb-4053-df9f-850724763929"
      },
      "execution_count": 6,
      "outputs": [
        {
          "output_type": "stream",
          "name": "stdout",
          "text": [
            "/content/gdrive/My Drive/Colab Notebooks\n"
          ]
        }
      ]
    },
    {
      "cell_type": "markdown",
      "source": [
        "B.1. Read the data set, clean the data and prepare final dataset to be used for analysis."
      ],
      "metadata": {
        "id": "Nhkoc2oZZftk"
      }
    },
    {
      "cell_type": "code",
      "source": [
        "df['Score'].unique()"
      ],
      "metadata": {
        "colab": {
          "base_uri": "https://localhost:8080/"
        },
        "id": "3IAkw-Qcd9WO",
        "outputId": "011a966b-0b11-44c6-be67-88b5d5209c55"
      },
      "execution_count": 66,
      "outputs": [
        {
          "output_type": "execute_result",
          "data": {
            "text/plain": [
              "array(['4385', '4262', '3442', '3386', '3368', '2819', '2792', '2573',\n",
              "       '2109', '1884', '1814', '1789', '1471', '1416', '1389', '1351',\n",
              "       '1314', '1174', '1148', '1020', '970', '667', '662', '606', '553',\n",
              "       '538', '510', '445', '421', '416', '375', '353', '343', '293',\n",
              "       '285', '277', '242', '230', '190', '188', '168', '150', '148',\n",
              "       '132', '107', '96', '91', '83', '81', '76', '71', '56', '52', '42',\n",
              "       '40', '35', '34', '22', '19', '14', '-'], dtype=object)"
            ]
          },
          "metadata": {},
          "execution_count": 66
        }
      ]
    },
    {
      "cell_type": "code",
      "source": [
        "df['PlayedGames'].unique()"
      ],
      "metadata": {
        "colab": {
          "base_uri": "https://localhost:8080/"
        },
        "id": "FAq_rRqfelx2",
        "outputId": "4fa9b830-f6dc-4264-e802-d456eba54161"
      },
      "execution_count": 67,
      "outputs": [
        {
          "output_type": "execute_result",
          "data": {
            "text/plain": [
              "array(['2762', '2614', '2664', '2408', '2626', '2302', '1986', '1728',\n",
              "       '1530', '1698', '1466', '1428', '1458', '1318', '1255', '1192',\n",
              "       '988', '1096', '646', '742', '652', '678', '456', '628', '494',\n",
              "       '586', '380', '402', '423', '426', '448', '346', '334', '270',\n",
              "       '228', '282', '160', '186', '204', '180', '152', '114', '130',\n",
              "       '116', '80', '108', '90', '72', '68', '54', '38', '30', '-'],\n",
              "      dtype=object)"
            ]
          },
          "metadata": {},
          "execution_count": 67
        }
      ]
    },
    {
      "cell_type": "code",
      "source": [
        "df['WonGames'].unique()"
      ],
      "metadata": {
        "colab": {
          "base_uri": "https://localhost:8080/"
        },
        "id": "DYCOxY0uezBt",
        "outputId": "3c987880-c218-47fa-e10b-957312a7327d"
      },
      "execution_count": 68,
      "outputs": [
        {
          "output_type": "execute_result",
          "data": {
            "text/plain": [
              "array(['1647', '1581', '1241', '1187', '1209', '990', '948', '864', '698',\n",
              "       '606', '563', '586', '463', '453', '471', '426', '390', '408',\n",
              "       '333', '367', '266', '218', '189', '203', '147', '184', '155',\n",
              "       '145', '125', '113', '123', '129', '104', '96', '103', '76', '62',\n",
              "       '82', '52', '50', '59', '53', '37', '35', '43', '26', '34', '20',\n",
              "       '19', '30', '29', '21', '17', '18', '13', '8', '7', '5', '-'],\n",
              "      dtype=object)"
            ]
          },
          "metadata": {},
          "execution_count": 68
        }
      ]
    },
    {
      "cell_type": "markdown",
      "source": [
        "The above code shows presence of non-integer, non-float values in the field. We will re-import the file in new dataset, and replace \"-\" to NaN"
      ],
      "metadata": {
        "id": "QmR9j1p2en1G"
      }
    },
    {
      "cell_type": "code",
      "source": [
        "df_new=pd.read_csv('Basketball.csv',na_values=['-'])"
      ],
      "metadata": {
        "id": "sPAn2xUSe2fm"
      },
      "execution_count": 7,
      "outputs": []
    },
    {
      "cell_type": "markdown",
      "source": [
        "Checking datatype of the columns"
      ],
      "metadata": {
        "id": "SM7nb3NEhTmV"
      }
    },
    {
      "cell_type": "code",
      "source": [
        "df_new.info()"
      ],
      "metadata": {
        "colab": {
          "base_uri": "https://localhost:8080/"
        },
        "id": "CBx6Oo4chN2p",
        "outputId": "23eb58c8-2ed2-4e10-f5ff-7bbbf2b30b1d"
      },
      "execution_count": 85,
      "outputs": [
        {
          "output_type": "stream",
          "name": "stdout",
          "text": [
            "<class 'pandas.core.frame.DataFrame'>\n",
            "RangeIndex: 61 entries, 0 to 60\n",
            "Data columns (total 13 columns):\n",
            " #   Column               Non-Null Count  Dtype  \n",
            "---  ------               --------------  -----  \n",
            " 0   Team                 61 non-null     object \n",
            " 1   Tournament           61 non-null     int64  \n",
            " 2   Score                60 non-null     float64\n",
            " 3   PlayedGames          60 non-null     float64\n",
            " 4   WonGames             60 non-null     float64\n",
            " 5   DrawnGames           60 non-null     float64\n",
            " 6   LostGames            60 non-null     float64\n",
            " 7   BasketScored         60 non-null     float64\n",
            " 8   BasketGiven          60 non-null     float64\n",
            " 9   TournamentChampion   9 non-null      float64\n",
            " 10  Runner-up            13 non-null     float64\n",
            " 11  TeamLaunch           61 non-null     object \n",
            " 12  HighestPositionHeld  61 non-null     int64  \n",
            "dtypes: float64(9), int64(2), object(2)\n",
            "memory usage: 6.3+ KB\n"
          ]
        }
      ]
    },
    {
      "cell_type": "markdown",
      "source": [
        "Viewing top 5 rows in dataset and the respective columns"
      ],
      "metadata": {
        "id": "F0h8L7Uthntm"
      }
    },
    {
      "cell_type": "code",
      "source": [
        "df_new.head()"
      ],
      "metadata": {
        "colab": {
          "base_uri": "https://localhost:8080/",
          "height": 250
        },
        "id": "_oSktkOUhkzR",
        "outputId": "8827cff1-54f3-4e53-e4ea-a381ccea758a"
      },
      "execution_count": 86,
      "outputs": [
        {
          "output_type": "execute_result",
          "data": {
            "text/plain": [
              "     Team  Tournament       Score  PlayedGames    WonGames  DrawnGames  \\\n",
              "0  Team 1          86 4385.000000  2762.000000 1647.000000  552.000000   \n",
              "1  Team 2          86 4262.000000  2762.000000 1581.000000  573.000000   \n",
              "2  Team 3          80 3442.000000  2614.000000 1241.000000  598.000000   \n",
              "3  Team 4          82 3386.000000  2664.000000 1187.000000  616.000000   \n",
              "4  Team 5          86 3368.000000  2762.000000 1209.000000  633.000000   \n",
              "\n",
              "   LostGames  BasketScored  BasketGiven  TournamentChampion  Runner-up  \\\n",
              "0 563.000000   5947.000000  3140.000000           33.000000  23.000000   \n",
              "1 608.000000   5900.000000  3114.000000           25.000000  25.000000   \n",
              "2 775.000000   4534.000000  3309.000000           10.000000   8.000000   \n",
              "3 861.000000   4398.000000  3469.000000            6.000000   6.000000   \n",
              "4 920.000000   4631.000000  3700.000000            8.000000   7.000000   \n",
              "\n",
              "  TeamLaunch  HighestPositionHeld  \n",
              "0       1929                    1  \n",
              "1       1929                    1  \n",
              "2       1929                    1  \n",
              "3   1931to32                    1  \n",
              "4       1929                    1  "
            ],
            "text/html": [
              "\n",
              "  <div id=\"df-15528d7a-bb76-4ff2-ae60-30471b642448\">\n",
              "    <div class=\"colab-df-container\">\n",
              "      <div>\n",
              "<style scoped>\n",
              "    .dataframe tbody tr th:only-of-type {\n",
              "        vertical-align: middle;\n",
              "    }\n",
              "\n",
              "    .dataframe tbody tr th {\n",
              "        vertical-align: top;\n",
              "    }\n",
              "\n",
              "    .dataframe thead th {\n",
              "        text-align: right;\n",
              "    }\n",
              "</style>\n",
              "<table border=\"1\" class=\"dataframe\">\n",
              "  <thead>\n",
              "    <tr style=\"text-align: right;\">\n",
              "      <th></th>\n",
              "      <th>Team</th>\n",
              "      <th>Tournament</th>\n",
              "      <th>Score</th>\n",
              "      <th>PlayedGames</th>\n",
              "      <th>WonGames</th>\n",
              "      <th>DrawnGames</th>\n",
              "      <th>LostGames</th>\n",
              "      <th>BasketScored</th>\n",
              "      <th>BasketGiven</th>\n",
              "      <th>TournamentChampion</th>\n",
              "      <th>Runner-up</th>\n",
              "      <th>TeamLaunch</th>\n",
              "      <th>HighestPositionHeld</th>\n",
              "    </tr>\n",
              "  </thead>\n",
              "  <tbody>\n",
              "    <tr>\n",
              "      <th>0</th>\n",
              "      <td>Team 1</td>\n",
              "      <td>86</td>\n",
              "      <td>4385.000000</td>\n",
              "      <td>2762.000000</td>\n",
              "      <td>1647.000000</td>\n",
              "      <td>552.000000</td>\n",
              "      <td>563.000000</td>\n",
              "      <td>5947.000000</td>\n",
              "      <td>3140.000000</td>\n",
              "      <td>33.000000</td>\n",
              "      <td>23.000000</td>\n",
              "      <td>1929</td>\n",
              "      <td>1</td>\n",
              "    </tr>\n",
              "    <tr>\n",
              "      <th>1</th>\n",
              "      <td>Team 2</td>\n",
              "      <td>86</td>\n",
              "      <td>4262.000000</td>\n",
              "      <td>2762.000000</td>\n",
              "      <td>1581.000000</td>\n",
              "      <td>573.000000</td>\n",
              "      <td>608.000000</td>\n",
              "      <td>5900.000000</td>\n",
              "      <td>3114.000000</td>\n",
              "      <td>25.000000</td>\n",
              "      <td>25.000000</td>\n",
              "      <td>1929</td>\n",
              "      <td>1</td>\n",
              "    </tr>\n",
              "    <tr>\n",
              "      <th>2</th>\n",
              "      <td>Team 3</td>\n",
              "      <td>80</td>\n",
              "      <td>3442.000000</td>\n",
              "      <td>2614.000000</td>\n",
              "      <td>1241.000000</td>\n",
              "      <td>598.000000</td>\n",
              "      <td>775.000000</td>\n",
              "      <td>4534.000000</td>\n",
              "      <td>3309.000000</td>\n",
              "      <td>10.000000</td>\n",
              "      <td>8.000000</td>\n",
              "      <td>1929</td>\n",
              "      <td>1</td>\n",
              "    </tr>\n",
              "    <tr>\n",
              "      <th>3</th>\n",
              "      <td>Team 4</td>\n",
              "      <td>82</td>\n",
              "      <td>3386.000000</td>\n",
              "      <td>2664.000000</td>\n",
              "      <td>1187.000000</td>\n",
              "      <td>616.000000</td>\n",
              "      <td>861.000000</td>\n",
              "      <td>4398.000000</td>\n",
              "      <td>3469.000000</td>\n",
              "      <td>6.000000</td>\n",
              "      <td>6.000000</td>\n",
              "      <td>1931to32</td>\n",
              "      <td>1</td>\n",
              "    </tr>\n",
              "    <tr>\n",
              "      <th>4</th>\n",
              "      <td>Team 5</td>\n",
              "      <td>86</td>\n",
              "      <td>3368.000000</td>\n",
              "      <td>2762.000000</td>\n",
              "      <td>1209.000000</td>\n",
              "      <td>633.000000</td>\n",
              "      <td>920.000000</td>\n",
              "      <td>4631.000000</td>\n",
              "      <td>3700.000000</td>\n",
              "      <td>8.000000</td>\n",
              "      <td>7.000000</td>\n",
              "      <td>1929</td>\n",
              "      <td>1</td>\n",
              "    </tr>\n",
              "  </tbody>\n",
              "</table>\n",
              "</div>\n",
              "      <button class=\"colab-df-convert\" onclick=\"convertToInteractive('df-15528d7a-bb76-4ff2-ae60-30471b642448')\"\n",
              "              title=\"Convert this dataframe to an interactive table.\"\n",
              "              style=\"display:none;\">\n",
              "        \n",
              "  <svg xmlns=\"http://www.w3.org/2000/svg\" height=\"24px\"viewBox=\"0 0 24 24\"\n",
              "       width=\"24px\">\n",
              "    <path d=\"M0 0h24v24H0V0z\" fill=\"none\"/>\n",
              "    <path d=\"M18.56 5.44l.94 2.06.94-2.06 2.06-.94-2.06-.94-.94-2.06-.94 2.06-2.06.94zm-11 1L8.5 8.5l.94-2.06 2.06-.94-2.06-.94L8.5 2.5l-.94 2.06-2.06.94zm10 10l.94 2.06.94-2.06 2.06-.94-2.06-.94-.94-2.06-.94 2.06-2.06.94z\"/><path d=\"M17.41 7.96l-1.37-1.37c-.4-.4-.92-.59-1.43-.59-.52 0-1.04.2-1.43.59L10.3 9.45l-7.72 7.72c-.78.78-.78 2.05 0 2.83L4 21.41c.39.39.9.59 1.41.59.51 0 1.02-.2 1.41-.59l7.78-7.78 2.81-2.81c.8-.78.8-2.07 0-2.86zM5.41 20L4 18.59l7.72-7.72 1.47 1.35L5.41 20z\"/>\n",
              "  </svg>\n",
              "      </button>\n",
              "      \n",
              "  <style>\n",
              "    .colab-df-container {\n",
              "      display:flex;\n",
              "      flex-wrap:wrap;\n",
              "      gap: 12px;\n",
              "    }\n",
              "\n",
              "    .colab-df-convert {\n",
              "      background-color: #E8F0FE;\n",
              "      border: none;\n",
              "      border-radius: 50%;\n",
              "      cursor: pointer;\n",
              "      display: none;\n",
              "      fill: #1967D2;\n",
              "      height: 32px;\n",
              "      padding: 0 0 0 0;\n",
              "      width: 32px;\n",
              "    }\n",
              "\n",
              "    .colab-df-convert:hover {\n",
              "      background-color: #E2EBFA;\n",
              "      box-shadow: 0px 1px 2px rgba(60, 64, 67, 0.3), 0px 1px 3px 1px rgba(60, 64, 67, 0.15);\n",
              "      fill: #174EA6;\n",
              "    }\n",
              "\n",
              "    [theme=dark] .colab-df-convert {\n",
              "      background-color: #3B4455;\n",
              "      fill: #D2E3FC;\n",
              "    }\n",
              "\n",
              "    [theme=dark] .colab-df-convert:hover {\n",
              "      background-color: #434B5C;\n",
              "      box-shadow: 0px 1px 3px 1px rgba(0, 0, 0, 0.15);\n",
              "      filter: drop-shadow(0px 1px 2px rgba(0, 0, 0, 0.3));\n",
              "      fill: #FFFFFF;\n",
              "    }\n",
              "  </style>\n",
              "\n",
              "      <script>\n",
              "        const buttonEl =\n",
              "          document.querySelector('#df-15528d7a-bb76-4ff2-ae60-30471b642448 button.colab-df-convert');\n",
              "        buttonEl.style.display =\n",
              "          google.colab.kernel.accessAllowed ? 'block' : 'none';\n",
              "\n",
              "        async function convertToInteractive(key) {\n",
              "          const element = document.querySelector('#df-15528d7a-bb76-4ff2-ae60-30471b642448');\n",
              "          const dataTable =\n",
              "            await google.colab.kernel.invokeFunction('convertToInteractive',\n",
              "                                                     [key], {});\n",
              "          if (!dataTable) return;\n",
              "\n",
              "          const docLinkHtml = 'Like what you see? Visit the ' +\n",
              "            '<a target=\"_blank\" href=https://colab.research.google.com/notebooks/data_table.ipynb>data table notebook</a>'\n",
              "            + ' to learn more about interactive tables.';\n",
              "          element.innerHTML = '';\n",
              "          dataTable['output_type'] = 'display_data';\n",
              "          await google.colab.output.renderOutput(dataTable, element);\n",
              "          const docLink = document.createElement('div');\n",
              "          docLink.innerHTML = docLinkHtml;\n",
              "          element.appendChild(docLink);\n",
              "        }\n",
              "      </script>\n",
              "    </div>\n",
              "  </div>\n",
              "  "
            ]
          },
          "metadata": {},
          "execution_count": 86
        }
      ]
    },
    {
      "cell_type": "markdown",
      "source": [
        "Checking rows and columns in dataset"
      ],
      "metadata": {
        "id": "Hw7u3__-iRsO"
      }
    },
    {
      "cell_type": "code",
      "source": [
        "df_new.shape"
      ],
      "metadata": {
        "colab": {
          "base_uri": "https://localhost:8080/"
        },
        "id": "t6rGU0yqiM2W",
        "outputId": "a4cb1659-661a-486f-eb79-1e5de2c6677d"
      },
      "execution_count": 88,
      "outputs": [
        {
          "output_type": "execute_result",
          "data": {
            "text/plain": [
              "(61, 13)"
            ]
          },
          "metadata": {},
          "execution_count": 88
        }
      ]
    },
    {
      "cell_type": "markdown",
      "source": [
        "Checking duplicates in the dataset and currently there are no duplicates in the dataset"
      ],
      "metadata": {
        "id": "LoDcou9bfKTV"
      }
    },
    {
      "cell_type": "code",
      "source": [
        "df_new.duplicated().sum()"
      ],
      "metadata": {
        "colab": {
          "base_uri": "https://localhost:8080/"
        },
        "id": "exCy-3AufMe1",
        "outputId": "ac89b43b-77d3-4670-80a3-afb98401dbcb"
      },
      "execution_count": 87,
      "outputs": [
        {
          "output_type": "execute_result",
          "data": {
            "text/plain": [
              "0"
            ]
          },
          "metadata": {},
          "execution_count": 87
        }
      ]
    },
    {
      "cell_type": "markdown",
      "source": [
        "Check null values in the dataset"
      ],
      "metadata": {
        "id": "2-sW23_ng0ts"
      }
    },
    {
      "cell_type": "code",
      "source": [
        "df_new.isnull().sum()"
      ],
      "metadata": {
        "colab": {
          "base_uri": "https://localhost:8080/"
        },
        "id": "X0cBsMIAg1Mx",
        "outputId": "32ffcad7-395c-46d6-d1ad-8086cbfd7371"
      },
      "execution_count": 72,
      "outputs": [
        {
          "output_type": "execute_result",
          "data": {
            "text/plain": [
              "Team                    0\n",
              "Tournament              0\n",
              "Score                   1\n",
              "PlayedGames             1\n",
              "WonGames                1\n",
              "DrawnGames              1\n",
              "LostGames               1\n",
              "BasketScored            1\n",
              "BasketGiven             1\n",
              "TournamentChampion     52\n",
              "Runner-up              48\n",
              "TeamLaunch              0\n",
              "HighestPositionHeld     0\n",
              "dtype: int64"
            ]
          },
          "metadata": {},
          "execution_count": 72
        }
      ]
    },
    {
      "cell_type": "markdown",
      "source": [
        "Identifying the row having Score as null value"
      ],
      "metadata": {
        "id": "6-nb_Senjyud"
      }
    },
    {
      "cell_type": "code",
      "source": [
        "df_new.loc[df_new['Score'].isnull()==True]"
      ],
      "metadata": {
        "colab": {
          "base_uri": "https://localhost:8080/",
          "height": 81
        },
        "id": "71FpeZTkjwz4",
        "outputId": "e59b3136-d747-44d5-c8fc-3bfb4486b67c"
      },
      "execution_count": 8,
      "outputs": [
        {
          "output_type": "execute_result",
          "data": {
            "text/plain": [
              "       Team  Tournament  Score  PlayedGames  WonGames  DrawnGames  LostGames  \\\n",
              "60  Team 61           1    NaN          NaN       NaN         NaN        NaN   \n",
              "\n",
              "    BasketScored  BasketGiven  TournamentChampion  Runner-up TeamLaunch  \\\n",
              "60           NaN          NaN                 NaN        NaN    2017~18   \n",
              "\n",
              "    HighestPositionHeld  \n",
              "60                    9  "
            ],
            "text/html": [
              "\n",
              "  <div id=\"df-f8fea9f1-274d-4fa2-8579-2f578c77f483\">\n",
              "    <div class=\"colab-df-container\">\n",
              "      <div>\n",
              "<style scoped>\n",
              "    .dataframe tbody tr th:only-of-type {\n",
              "        vertical-align: middle;\n",
              "    }\n",
              "\n",
              "    .dataframe tbody tr th {\n",
              "        vertical-align: top;\n",
              "    }\n",
              "\n",
              "    .dataframe thead th {\n",
              "        text-align: right;\n",
              "    }\n",
              "</style>\n",
              "<table border=\"1\" class=\"dataframe\">\n",
              "  <thead>\n",
              "    <tr style=\"text-align: right;\">\n",
              "      <th></th>\n",
              "      <th>Team</th>\n",
              "      <th>Tournament</th>\n",
              "      <th>Score</th>\n",
              "      <th>PlayedGames</th>\n",
              "      <th>WonGames</th>\n",
              "      <th>DrawnGames</th>\n",
              "      <th>LostGames</th>\n",
              "      <th>BasketScored</th>\n",
              "      <th>BasketGiven</th>\n",
              "      <th>TournamentChampion</th>\n",
              "      <th>Runner-up</th>\n",
              "      <th>TeamLaunch</th>\n",
              "      <th>HighestPositionHeld</th>\n",
              "    </tr>\n",
              "  </thead>\n",
              "  <tbody>\n",
              "    <tr>\n",
              "      <th>60</th>\n",
              "      <td>Team 61</td>\n",
              "      <td>1</td>\n",
              "      <td>NaN</td>\n",
              "      <td>NaN</td>\n",
              "      <td>NaN</td>\n",
              "      <td>NaN</td>\n",
              "      <td>NaN</td>\n",
              "      <td>NaN</td>\n",
              "      <td>NaN</td>\n",
              "      <td>NaN</td>\n",
              "      <td>NaN</td>\n",
              "      <td>2017~18</td>\n",
              "      <td>9</td>\n",
              "    </tr>\n",
              "  </tbody>\n",
              "</table>\n",
              "</div>\n",
              "      <button class=\"colab-df-convert\" onclick=\"convertToInteractive('df-f8fea9f1-274d-4fa2-8579-2f578c77f483')\"\n",
              "              title=\"Convert this dataframe to an interactive table.\"\n",
              "              style=\"display:none;\">\n",
              "        \n",
              "  <svg xmlns=\"http://www.w3.org/2000/svg\" height=\"24px\"viewBox=\"0 0 24 24\"\n",
              "       width=\"24px\">\n",
              "    <path d=\"M0 0h24v24H0V0z\" fill=\"none\"/>\n",
              "    <path d=\"M18.56 5.44l.94 2.06.94-2.06 2.06-.94-2.06-.94-.94-2.06-.94 2.06-2.06.94zm-11 1L8.5 8.5l.94-2.06 2.06-.94-2.06-.94L8.5 2.5l-.94 2.06-2.06.94zm10 10l.94 2.06.94-2.06 2.06-.94-2.06-.94-.94-2.06-.94 2.06-2.06.94z\"/><path d=\"M17.41 7.96l-1.37-1.37c-.4-.4-.92-.59-1.43-.59-.52 0-1.04.2-1.43.59L10.3 9.45l-7.72 7.72c-.78.78-.78 2.05 0 2.83L4 21.41c.39.39.9.59 1.41.59.51 0 1.02-.2 1.41-.59l7.78-7.78 2.81-2.81c.8-.78.8-2.07 0-2.86zM5.41 20L4 18.59l7.72-7.72 1.47 1.35L5.41 20z\"/>\n",
              "  </svg>\n",
              "      </button>\n",
              "      \n",
              "  <style>\n",
              "    .colab-df-container {\n",
              "      display:flex;\n",
              "      flex-wrap:wrap;\n",
              "      gap: 12px;\n",
              "    }\n",
              "\n",
              "    .colab-df-convert {\n",
              "      background-color: #E8F0FE;\n",
              "      border: none;\n",
              "      border-radius: 50%;\n",
              "      cursor: pointer;\n",
              "      display: none;\n",
              "      fill: #1967D2;\n",
              "      height: 32px;\n",
              "      padding: 0 0 0 0;\n",
              "      width: 32px;\n",
              "    }\n",
              "\n",
              "    .colab-df-convert:hover {\n",
              "      background-color: #E2EBFA;\n",
              "      box-shadow: 0px 1px 2px rgba(60, 64, 67, 0.3), 0px 1px 3px 1px rgba(60, 64, 67, 0.15);\n",
              "      fill: #174EA6;\n",
              "    }\n",
              "\n",
              "    [theme=dark] .colab-df-convert {\n",
              "      background-color: #3B4455;\n",
              "      fill: #D2E3FC;\n",
              "    }\n",
              "\n",
              "    [theme=dark] .colab-df-convert:hover {\n",
              "      background-color: #434B5C;\n",
              "      box-shadow: 0px 1px 3px 1px rgba(0, 0, 0, 0.15);\n",
              "      filter: drop-shadow(0px 1px 2px rgba(0, 0, 0, 0.3));\n",
              "      fill: #FFFFFF;\n",
              "    }\n",
              "  </style>\n",
              "\n",
              "      <script>\n",
              "        const buttonEl =\n",
              "          document.querySelector('#df-f8fea9f1-274d-4fa2-8579-2f578c77f483 button.colab-df-convert');\n",
              "        buttonEl.style.display =\n",
              "          google.colab.kernel.accessAllowed ? 'block' : 'none';\n",
              "\n",
              "        async function convertToInteractive(key) {\n",
              "          const element = document.querySelector('#df-f8fea9f1-274d-4fa2-8579-2f578c77f483');\n",
              "          const dataTable =\n",
              "            await google.colab.kernel.invokeFunction('convertToInteractive',\n",
              "                                                     [key], {});\n",
              "          if (!dataTable) return;\n",
              "\n",
              "          const docLinkHtml = 'Like what you see? Visit the ' +\n",
              "            '<a target=\"_blank\" href=https://colab.research.google.com/notebooks/data_table.ipynb>data table notebook</a>'\n",
              "            + ' to learn more about interactive tables.';\n",
              "          element.innerHTML = '';\n",
              "          dataTable['output_type'] = 'display_data';\n",
              "          await google.colab.output.renderOutput(dataTable, element);\n",
              "          const docLink = document.createElement('div');\n",
              "          docLink.innerHTML = docLinkHtml;\n",
              "          element.appendChild(docLink);\n",
              "        }\n",
              "      </script>\n",
              "    </div>\n",
              "  </div>\n",
              "  "
            ]
          },
          "metadata": {},
          "execution_count": 8
        }
      ]
    },
    {
      "cell_type": "markdown",
      "source": [
        "Dropping this row as most of the columns are blank"
      ],
      "metadata": {
        "id": "KG1vK6Rwj4W5"
      }
    },
    {
      "cell_type": "code",
      "source": [
        "df_new=df_new.drop(60).reset_index(drop=True)"
      ],
      "metadata": {
        "id": "UF0iTQ4ekBkZ"
      },
      "execution_count": 9,
      "outputs": []
    },
    {
      "cell_type": "markdown",
      "source": [
        "2. Perform detailed statistical analysis and EDA using univariate, bi-variate and multivariate EDA techniques "
      ],
      "metadata": {
        "id": "aYWP49_5lljU"
      }
    },
    {
      "cell_type": "markdown",
      "source": [
        "Plotting distplot for column DrawnGames with kernel distribution"
      ],
      "metadata": {
        "id": "C4DsYhvmnq5P"
      }
    },
    {
      "cell_type": "code",
      "source": [
        "sns.displot(data=df_new, x='DrawnGames', kind='kde')\n",
        "plt.show()"
      ],
      "metadata": {
        "colab": {
          "base_uri": "https://localhost:8080/",
          "height": 506
        },
        "id": "By6XNqsGmm-C",
        "outputId": "efa685b4-dc71-4ddd-f081-bb0bd26d77cf"
      },
      "execution_count": 94,
      "outputs": [
        {
          "output_type": "display_data",
          "data": {
            "text/plain": [
              "<Figure size 500x500 with 1 Axes>"
            ],
            "image/png": "[encoded data removed]"
          },
          "metadata": {}
        }
      ]
    },
    {
      "cell_type": "markdown",
      "source": [
        "Plotting distplot and boxplot for column LostGames"
      ],
      "metadata": {
        "id": "9j9s1XMXn4GH"
      }
    },
    {
      "cell_type": "code",
      "source": [
        "sns.displot(data=df_new, x='LostGames')\n",
        "plt.show()\n",
        "\n",
        "sns.boxplot(data=df_new, x='LostGames')\n",
        "plt.show()\n"
      ],
      "metadata": {
        "colab": {
          "base_uri": "https://localhost:8080/",
          "height": 938
        },
        "id": "I0SyIz12mqBV",
        "outputId": "d055128a-d9c5-4463-a3bf-28e8a2ca6584"
      },
      "execution_count": 95,
      "outputs": [
        {
          "output_type": "display_data",
          "data": {
            "text/plain": [
              "<Figure size 500x500 with 1 Axes>"
            ],
            "image/png": "[encoded data removed]"
          },
          "metadata": {}
        },
        {
          "output_type": "display_data",
          "data": {
            "text/plain": [
              "<Figure size 640x480 with 1 Axes>"
            ],
            "image/png": "[encoded data removed]"
          },
          "metadata": {}
        }
      ]
    },
    {
      "cell_type": "markdown",
      "source": [
        "Plotting distplot and boxplot for column BasketScored. Boxplot shows the outliers"
      ],
      "metadata": {
        "id": "5M0KMQ2YoFLn"
      }
    },
    {
      "cell_type": "code",
      "source": [
        "sns.displot(data=df_new, x='BasketScored', kind='kde')\n",
        "plt.show()\n",
        "sns.boxplot(data=df_new, x='BasketScored')\n",
        "plt.show()"
      ],
      "metadata": {
        "colab": {
          "base_uri": "https://localhost:8080/",
          "height": 938
        },
        "id": "Gc-a8PofnIQM",
        "outputId": "fcd44563-9652-4d68-b3bc-09429a396b91"
      },
      "execution_count": 96,
      "outputs": [
        {
          "output_type": "display_data",
          "data": {
            "text/plain": [
              "<Figure size 500x500 with 1 Axes>"
            ],
            "image/png": "[encoded data removed]"
          },
          "metadata": {}
        },
        {
          "output_type": "display_data",
          "data": {
            "text/plain": [
              "<Figure size 640x480 with 1 Axes>"
            ],
            "image/png": "[encoded data removed]"
          },
          "metadata": {}
        }
      ]
    },
    {
      "cell_type": "markdown",
      "source": [
        "Plotting distplot and boxplot for column BasketGiven"
      ],
      "metadata": {
        "id": "jMFHxu5ToT70"
      }
    },
    {
      "cell_type": "code",
      "source": [
        "sns.displot(data=df_new, x='BasketGiven', kind='kde')\n",
        "plt.show()\n",
        "sns.boxplot(data=df_new, x='BasketGiven')\n",
        "plt.show()"
      ],
      "metadata": {
        "colab": {
          "base_uri": "https://localhost:8080/",
          "height": 939
        },
        "id": "KNbPM9ugm--3",
        "outputId": "3203944b-6763-45f4-86f7-9eb53f93a49c"
      },
      "execution_count": 97,
      "outputs": [
        {
          "output_type": "display_data",
          "data": {
            "text/plain": [
              "<Figure size 500x500 with 1 Axes>"
            ],
            "image/png": "[encoded data removed]"
          },
          "metadata": {}
        },
        {
          "output_type": "display_data",
          "data": {
            "text/plain": [
              "<Figure size 640x480 with 1 Axes>"
            ],
            "image/png": "[encoded data removed]"
          },
          "metadata": {}
        }
      ]
    },
    {
      "cell_type": "markdown",
      "source": [
        "Plotting distplot and boxplot for column TournamentChampion"
      ],
      "metadata": {
        "id": "ejJIDCU7oZhQ"
      }
    },
    {
      "cell_type": "code",
      "source": [
        "sns.displot(data=df_new, x='TournamentChampion')\n",
        "plt.show()\n",
        "sns.boxplot(data=df_new, x='TournamentChampion')\n",
        "plt.show()"
      ],
      "metadata": {
        "colab": {
          "base_uri": "https://localhost:8080/",
          "height": 938
        },
        "id": "BES59XMWnK5S",
        "outputId": "23dc05c6-d7a8-4aeb-c207-97164937a9e1"
      },
      "execution_count": 98,
      "outputs": [
        {
          "output_type": "display_data",
          "data": {
            "text/plain": [
              "<Figure size 500x500 with 1 Axes>"
            ],
            "image/png": "[encoded data removed]"
          },
          "metadata": {}
        },
        {
          "output_type": "display_data",
          "data": {
            "text/plain": [
              "<Figure size 640x480 with 1 Axes>"
            ],
            "image/png": "[encoded data removed]"
          },
          "metadata": {}
        }
      ]
    },
    {
      "cell_type": "markdown",
      "source": [
        "Plotting distplot and boxplot for column Runner-up"
      ],
      "metadata": {
        "id": "gsJFAoJAoi6n"
      }
    },
    {
      "cell_type": "code",
      "source": [
        "sns.displot(data=df_new, x='Runner-up', kind='kde')\n",
        "plt.show()\n",
        "sns.boxplot(data=df_new, x='Runner-up')\n",
        "plt.show()"
      ],
      "metadata": {
        "colab": {
          "base_uri": "https://localhost:8080/",
          "height": 938
        },
        "id": "ECRTS4PCnNUV",
        "outputId": "c9b9b3e1-4238-4e37-ce6d-506f055be437"
      },
      "execution_count": 99,
      "outputs": [
        {
          "output_type": "display_data",
          "data": {
            "text/plain": [
              "<Figure size 500x500 with 1 Axes>"
            ],
            "image/png": "[encoded data removed]"
          },
          "metadata": {}
        },
        {
          "output_type": "display_data",
          "data": {
            "text/plain": [
              "<Figure size 640x480 with 1 Axes>"
            ],
            "image/png": "[encoded data removed]"
          },
          "metadata": {}
        }
      ]
    },
    {
      "cell_type": "markdown",
      "source": [
        "Plotting countplot for column TeamLaunch"
      ],
      "metadata": {
        "id": "rMVJU2m3olXT"
      }
    },
    {
      "cell_type": "code",
      "source": [
        "sns.countplot(data=df_new, x='TeamLaunch')\n",
        "plt.xticks(rotation=90)\n",
        "plt.show()"
      ],
      "metadata": {
        "colab": {
          "base_uri": "https://localhost:8080/",
          "height": 502
        },
        "id": "8rwUh3wGnQcL",
        "outputId": "f912628f-7858-4007-9f2f-7d9dd036473b"
      },
      "execution_count": 100,
      "outputs": [
        {
          "output_type": "display_data",
          "data": {
            "text/plain": [
              "<Figure size 640x480 with 1 Axes>"
            ],
            "image/png": "[encoded data removed]"
          },
          "metadata": {}
        }
      ]
    },
    {
      "cell_type": "markdown",
      "source": [
        "Plotting heatmap for whole dataset"
      ],
      "metadata": {
        "id": "CpUuXGlNourp"
      }
    },
    {
      "cell_type": "code",
      "source": [
        "plt.figure(figsize=(10,5))\n",
        "sns.heatmap(df_new.corr(), annot=True, cmap='Spectral', vmin=-1, vmax=1)\n",
        "plt.show()"
      ],
      "metadata": {
        "colab": {
          "base_uri": "https://localhost:8080/",
          "height": 645
        },
        "id": "QcNlbk-dmdXp",
        "outputId": "db41f3f2-85d0-4047-fe5a-ec0163fa92ac"
      },
      "execution_count": 101,
      "outputs": [
        {
          "output_type": "stream",
          "name": "stderr",
          "text": [
            "<ipython-input-101-a977814d2529>:2: FutureWarning: The default value of numeric_only in DataFrame.corr is deprecated. In a future version, it will default to False. Select only valid columns or specify the value of numeric_only to silence this warning.\n",
            "  sns.heatmap(df_new.corr(), annot=True, cmap='Spectral', vmin=-1, vmax=1)\n"
          ]
        },
        {
          "output_type": "display_data",
          "data": {
            "text/plain": [
              "<Figure size 1000x500 with 2 Axes>"
            ],
            "image/png": "[encoded data removed]"
          },
          "metadata": {}
        }
      ]
    },
    {
      "cell_type": "markdown",
      "source": [
        "Plotting scatterplot between number of Tournaments and PlayedGames"
      ],
      "metadata": {
        "id": "_AmMAXLCo2yb"
      }
    },
    {
      "cell_type": "code",
      "source": [
        "plt.figure(figsize=(10,5))\n",
        "sns.scatterplot(data=df_new, x='Tournament', y='PlayedGames')\n",
        "plt.show()"
      ],
      "metadata": {
        "colab": {
          "base_uri": "https://localhost:8080/",
          "height": 465
        },
        "id": "2VN9I2FwnWIW",
        "outputId": "42a279db-8bde-40e1-af43-b0a989823de1"
      },
      "execution_count": 102,
      "outputs": [
        {
          "output_type": "display_data",
          "data": {
            "text/plain": [
              "<Figure size 1000x500 with 1 Axes>"
            ],
            "image/png": "[encoded data removed]"
          },
          "metadata": {}
        }
      ]
    },
    {
      "cell_type": "markdown",
      "source": [
        "Plotting scatterplot between number of Tournaments and WonGames\n",
        "This plot also shows that as a team plays more tournament, they win more games"
      ],
      "metadata": {
        "id": "Ufw3K1awpEhx"
      }
    },
    {
      "cell_type": "code",
      "source": [
        "plt.figure(figsize=(10,5))\n",
        "sns.scatterplot(data=df_new, x='Tournament', y='WonGames')\n",
        "plt.show()"
      ],
      "metadata": {
        "colab": {
          "base_uri": "https://localhost:8080/",
          "height": 465
        },
        "id": "Zl8Avm0-nZJn",
        "outputId": "6ccc9dbb-4c50-4189-c13b-704aa8095253"
      },
      "execution_count": 103,
      "outputs": [
        {
          "output_type": "display_data",
          "data": {
            "text/plain": [
              "<Figure size 1000x500 with 1 Axes>"
            ],
            "image/png": "[encoded data removed]"
          },
          "metadata": {}
        }
      ]
    },
    {
      "cell_type": "markdown",
      "source": [
        "Plotting boxplot with multiple bins for column PlayedGames"
      ],
      "metadata": {
        "id": "e9MIZKRTpNvM"
      }
    },
    {
      "cell_type": "code",
      "source": [
        "df_new['games_bins']= pd.cut(df_new['PlayedGames'], bins=[0,500,1500,3000], labels=['lower', 'moderate', 'higher'], right = False)\n",
        "df_new.head()\n",
        "\n",
        "sns.boxplot(data=df_new, x= 'games_bins', y='WonGames')\n",
        "plt.show()"
      ],
      "metadata": {
        "colab": {
          "base_uri": "https://localhost:8080/",
          "height": 450
        },
        "id": "ykttWjS9nfiV",
        "outputId": "5ec2eccb-472b-48db-b9c9-8051674fc469"
      },
      "execution_count": 104,
      "outputs": [
        {
          "output_type": "display_data",
          "data": {
            "text/plain": [
              "<Figure size 640x480 with 1 Axes>"
            ],
            "image/png": "[encoded data removed]"
          },
          "metadata": {}
        }
      ]
    },
    {
      "cell_type": "code",
      "source": [
        "df_new.head()"
      ],
      "metadata": {
        "colab": {
          "base_uri": "https://localhost:8080/",
          "height": 374
        },
        "id": "VsfVSa7LqHPx",
        "outputId": "03de3316-6238-4a9d-e057-6328d9705349"
      },
      "execution_count": 105,
      "outputs": [
        {
          "output_type": "execute_result",
          "data": {
            "text/plain": [
              "     Team  Tournament       Score  PlayedGames    WonGames  DrawnGames  \\\n",
              "0  Team 1          86 4385.000000  2762.000000 1647.000000  552.000000   \n",
              "1  Team 2          86 4262.000000  2762.000000 1581.000000  573.000000   \n",
              "2  Team 3          80 3442.000000  2614.000000 1241.000000  598.000000   \n",
              "3  Team 4          82 3386.000000  2664.000000 1187.000000  616.000000   \n",
              "4  Team 5          86 3368.000000  2762.000000 1209.000000  633.000000   \n",
              "\n",
              "   LostGames  BasketScored  BasketGiven  TournamentChampion  Runner-up  \\\n",
              "0 563.000000   5947.000000  3140.000000           33.000000  23.000000   \n",
              "1 608.000000   5900.000000  3114.000000           25.000000  25.000000   \n",
              "2 775.000000   4534.000000  3309.000000           10.000000   8.000000   \n",
              "3 861.000000   4398.000000  3469.000000            6.000000   6.000000   \n",
              "4 920.000000   4631.000000  3700.000000            8.000000   7.000000   \n",
              "\n",
              "  TeamLaunch  HighestPositionHeld games_bins  \n",
              "0       1929                    1     higher  \n",
              "1       1929                    1     higher  \n",
              "2       1929                    1     higher  \n",
              "3   1931to32                    1     higher  \n",
              "4       1929                    1     higher  "
            ],
            "text/html": [
              "\n",
              "  <div id=\"df-46f2471a-cb0b-4099-9368-e7c3a850b682\">\n",
              "    <div class=\"colab-df-container\">\n",
              "      <div>\n",
              "<style scoped>\n",
              "    .dataframe tbody tr th:only-of-type {\n",
              "        vertical-align: middle;\n",
              "    }\n",
              "\n",
              "    .dataframe tbody tr th {\n",
              "        vertical-align: top;\n",
              "    }\n",
              "\n",
              "    .dataframe thead th {\n",
              "        text-align: right;\n",
              "    }\n",
              "</style>\n",
              "<table border=\"1\" class=\"dataframe\">\n",
              "  <thead>\n",
              "    <tr style=\"text-align: right;\">\n",
              "      <th></th>\n",
              "      <th>Team</th>\n",
              "      <th>Tournament</th>\n",
              "      <th>Score</th>\n",
              "      <th>PlayedGames</th>\n",
              "      <th>WonGames</th>\n",
              "      <th>DrawnGames</th>\n",
              "      <th>LostGames</th>\n",
              "      <th>BasketScored</th>\n",
              "      <th>BasketGiven</th>\n",
              "      <th>TournamentChampion</th>\n",
              "      <th>Runner-up</th>\n",
              "      <th>TeamLaunch</th>\n",
              "      <th>HighestPositionHeld</th>\n",
              "      <th>games_bins</th>\n",
              "    </tr>\n",
              "  </thead>\n",
              "  <tbody>\n",
              "    <tr>\n",
              "      <th>0</th>\n",
              "      <td>Team 1</td>\n",
              "      <td>86</td>\n",
              "      <td>4385.000000</td>\n",
              "      <td>2762.000000</td>\n",
              "      <td>1647.000000</td>\n",
              "      <td>552.000000</td>\n",
              "      <td>563.000000</td>\n",
              "      <td>5947.000000</td>\n",
              "      <td>3140.000000</td>\n",
              "      <td>33.000000</td>\n",
              "      <td>23.000000</td>\n",
              "      <td>1929</td>\n",
              "      <td>1</td>\n",
              "      <td>higher</td>\n",
              "    </tr>\n",
              "    <tr>\n",
              "      <th>1</th>\n",
              "      <td>Team 2</td>\n",
              "      <td>86</td>\n",
              "      <td>4262.000000</td>\n",
              "      <td>2762.000000</td>\n",
              "      <td>1581.000000</td>\n",
              "      <td>573.000000</td>\n",
              "      <td>608.000000</td>\n",
              "      <td>5900.000000</td>\n",
              "      <td>3114.000000</td>\n",
              "      <td>25.000000</td>\n",
              "      <td>25.000000</td>\n",
              "      <td>1929</td>\n",
              "      <td>1</td>\n",
              "      <td>higher</td>\n",
              "    </tr>\n",
              "    <tr>\n",
              "      <th>2</th>\n",
              "      <td>Team 3</td>\n",
              "      <td>80</td>\n",
              "      <td>3442.000000</td>\n",
              "      <td>2614.000000</td>\n",
              "      <td>1241.000000</td>\n",
              "      <td>598.000000</td>\n",
              "      <td>775.000000</td>\n",
              "      <td>4534.000000</td>\n",
              "      <td>3309.000000</td>\n",
              "      <td>10.000000</td>\n",
              "      <td>8.000000</td>\n",
              "      <td>1929</td>\n",
              "      <td>1</td>\n",
              "      <td>higher</td>\n",
              "    </tr>\n",
              "    <tr>\n",
              "      <th>3</th>\n",
              "      <td>Team 4</td>\n",
              "      <td>82</td>\n",
              "      <td>3386.000000</td>\n",
              "      <td>2664.000000</td>\n",
              "      <td>1187.000000</td>\n",
              "      <td>616.000000</td>\n",
              "      <td>861.000000</td>\n",
              "      <td>4398.000000</td>\n",
              "      <td>3469.000000</td>\n",
              "      <td>6.000000</td>\n",
              "      <td>6.000000</td>\n",
              "      <td>1931to32</td>\n",
              "      <td>1</td>\n",
              "      <td>higher</td>\n",
              "    </tr>\n",
              "    <tr>\n",
              "      <th>4</th>\n",
              "      <td>Team 5</td>\n",
              "      <td>86</td>\n",
              "      <td>3368.000000</td>\n",
              "      <td>2762.000000</td>\n",
              "      <td>1209.000000</td>\n",
              "      <td>633.000000</td>\n",
              "      <td>920.000000</td>\n",
              "      <td>4631.000000</td>\n",
              "      <td>3700.000000</td>\n",
              "      <td>8.000000</td>\n",
              "      <td>7.000000</td>\n",
              "      <td>1929</td>\n",
              "      <td>1</td>\n",
              "      <td>higher</td>\n",
              "    </tr>\n",
              "  </tbody>\n",
              "</table>\n",
              "</div>\n",
              "      <button class=\"colab-df-convert\" onclick=\"convertToInteractive('df-46f2471a-cb0b-4099-9368-e7c3a850b682')\"\n",
              "              title=\"Convert this dataframe to an interactive table.\"\n",
              "              style=\"display:none;\">\n",
              "        \n",
              "  <svg xmlns=\"http://www.w3.org/2000/svg\" height=\"24px\"viewBox=\"0 0 24 24\"\n",
              "       width=\"24px\">\n",
              "    <path d=\"M0 0h24v24H0V0z\" fill=\"none\"/>\n",
              "    <path d=\"M18.56 5.44l.94 2.06.94-2.06 2.06-.94-2.06-.94-.94-2.06-.94 2.06-2.06.94zm-11 1L8.5 8.5l.94-2.06 2.06-.94-2.06-.94L8.5 2.5l-.94 2.06-2.06.94zm10 10l.94 2.06.94-2.06 2.06-.94-2.06-.94-.94-2.06-.94 2.06-2.06.94z\"/><path d=\"M17.41 7.96l-1.37-1.37c-.4-.4-.92-.59-1.43-.59-.52 0-1.04.2-1.43.59L10.3 9.45l-7.72 7.72c-.78.78-.78 2.05 0 2.83L4 21.41c.39.39.9.59 1.41.59.51 0 1.02-.2 1.41-.59l7.78-7.78 2.81-2.81c.8-.78.8-2.07 0-2.86zM5.41 20L4 18.59l7.72-7.72 1.47 1.35L5.41 20z\"/>\n",
              "  </svg>\n",
              "      </button>\n",
              "      \n",
              "  <style>\n",
              "    .colab-df-container {\n",
              "      display:flex;\n",
              "      flex-wrap:wrap;\n",
              "      gap: 12px;\n",
              "    }\n",
              "\n",
              "    .colab-df-convert {\n",
              "      background-color: #E8F0FE;\n",
              "      border: none;\n",
              "      border-radius: 50%;\n",
              "      cursor: pointer;\n",
              "      display: none;\n",
              "      fill: #1967D2;\n",
              "      height: 32px;\n",
              "      padding: 0 0 0 0;\n",
              "      width: 32px;\n",
              "    }\n",
              "\n",
              "    .colab-df-convert:hover {\n",
              "      background-color: #E2EBFA;\n",
              "      box-shadow: 0px 1px 2px rgba(60, 64, 67, 0.3), 0px 1px 3px 1px rgba(60, 64, 67, 0.15);\n",
              "      fill: #174EA6;\n",
              "    }\n",
              "\n",
              "    [theme=dark] .colab-df-convert {\n",
              "      background-color: #3B4455;\n",
              "      fill: #D2E3FC;\n",
              "    }\n",
              "\n",
              "    [theme=dark] .colab-df-convert:hover {\n",
              "      background-color: #434B5C;\n",
              "      box-shadow: 0px 1px 3px 1px rgba(0, 0, 0, 0.15);\n",
              "      filter: drop-shadow(0px 1px 2px rgba(0, 0, 0, 0.3));\n",
              "      fill: #FFFFFF;\n",
              "    }\n",
              "  </style>\n",
              "\n",
              "      <script>\n",
              "        const buttonEl =\n",
              "          document.querySelector('#df-46f2471a-cb0b-4099-9368-e7c3a850b682 button.colab-df-convert');\n",
              "        buttonEl.style.display =\n",
              "          google.colab.kernel.accessAllowed ? 'block' : 'none';\n",
              "\n",
              "        async function convertToInteractive(key) {\n",
              "          const element = document.querySelector('#df-46f2471a-cb0b-4099-9368-e7c3a850b682');\n",
              "          const dataTable =\n",
              "            await google.colab.kernel.invokeFunction('convertToInteractive',\n",
              "                                                     [key], {});\n",
              "          if (!dataTable) return;\n",
              "\n",
              "          const docLinkHtml = 'Like what you see? Visit the ' +\n",
              "            '<a target=\"_blank\" href=https://colab.research.google.com/notebooks/data_table.ipynb>data table notebook</a>'\n",
              "            + ' to learn more about interactive tables.';\n",
              "          element.innerHTML = '';\n",
              "          dataTable['output_type'] = 'display_data';\n",
              "          await google.colab.output.renderOutput(dataTable, element);\n",
              "          const docLink = document.createElement('div');\n",
              "          docLink.innerHTML = docLinkHtml;\n",
              "          element.appendChild(docLink);\n",
              "        }\n",
              "      </script>\n",
              "    </div>\n",
              "  </div>\n",
              "  "
            ]
          },
          "metadata": {},
          "execution_count": 105
        }
      ]
    },
    {
      "cell_type": "code",
      "source": [
        "#Calculating the percentage of wins or loses compared to the total games playes\n",
        "df_new['Overall_Winning'] = df_new['WonGames']/df_new['PlayedGames']*100\n",
        "df_new['Overall_Draw'] = df_new['DrawnGames']/df_new['PlayedGames']*100\n",
        "df_new['Overall_Losing'] = df_new['LostGames']/df_new['PlayedGames']*100"
      ],
      "metadata": {
        "id": "kn_DTzBcpqlM"
      },
      "execution_count": 10,
      "outputs": []
    },
    {
      "cell_type": "markdown",
      "source": [
        "Finding the Best Perfoming team"
      ],
      "metadata": {
        "id": "LGwPcbfKxFo6"
      }
    },
    {
      "cell_type": "code",
      "source": [
        "Winning_max = df_new['Overall_Winning'].max()\n",
        "Best_Team = df_new.loc[df_new['Overall_Winning'] == Winning_max , 'Team'].item()\n",
        "\n",
        "print(\"The best performing team is %s with the winning percentage of %1.2f %%\" %(Best_Team, Winning_max))\n"
      ],
      "metadata": {
        "colab": {
          "base_uri": "https://localhost:8080/"
        },
        "id": "obXCb7vwwluo",
        "outputId": "dc0c74e5-6ed4-49ff-da43-0e541bbb3a6d"
      },
      "execution_count": 11,
      "outputs": [
        {
          "output_type": "stream",
          "name": "stdout",
          "text": [
            "The best performing team is Team 1 with the winning percentage of 59.63 %\n"
          ]
        }
      ]
    },
    {
      "cell_type": "markdown",
      "source": [
        "Finding the team with lowest performance"
      ],
      "metadata": {
        "id": "P-pJ-kKcyuAU"
      }
    },
    {
      "cell_type": "code",
      "source": [
        "Losing_max = df_new['Overall_Losing'].max()\n",
        "Least_Performing_Team = df_new.loc[df_new['Overall_Losing'] == Losing_max , 'Team'].item()\n",
        "print(\"The least performing team is %s with the loosing percentage of %1.2f %%\" %(Least_Performing_Team, Losing_max))"
      ],
      "metadata": {
        "colab": {
          "base_uri": "https://localhost:8080/"
        },
        "id": "hYUwiIuHxLUc",
        "outputId": "88f7b6a8-1400-4c71-c007-657a13376ab0"
      },
      "execution_count": 13,
      "outputs": [
        {
          "output_type": "stream",
          "name": "stdout",
          "text": [
            "The least performing team is Team 60 with the loosing percentage of 70.00 %\n"
          ]
        }
      ]
    },
    {
      "cell_type": "markdown",
      "source": [
        "The plot below shows that as more games are played, the winning % increases"
      ],
      "metadata": {
        "id": "ihpa5lx_2vQx"
      }
    },
    {
      "cell_type": "code",
      "source": [
        "plt.figure(figsize=(10,5))\n",
        "sns.lineplot(data=df_new, x='PlayedGames', y='Overall_Winning', ci=None)\n",
        "plt.show()"
      ],
      "metadata": {
        "colab": {
          "base_uri": "https://localhost:8080/",
          "height": 555
        },
        "id": "GH0KzhcH1_zG",
        "outputId": "a840d810-ba6a-4dff-a207-eccdd4a57fb1"
      },
      "execution_count": 18,
      "outputs": [
        {
          "output_type": "stream",
          "name": "stderr",
          "text": [
            "<ipython-input-18-c30074af13de>:2: FutureWarning: \n",
            "\n",
            "The `ci` parameter is deprecated. Use `errorbar=None` for the same effect.\n",
            "\n",
            "  sns.lineplot(data=df_new, x='PlayedGames', y='Overall_Winning', ci=None)\n"
          ]
        },
        {
          "output_type": "display_data",
          "data": {
            "text/plain": [
              "<Figure size 1000x500 with 1 Axes>"
            ],
            "image/png": "[encoded data removed]"
          },
          "metadata": {}
        }
      ]
    },
    {
      "cell_type": "markdown",
      "source": [
        "The plot below shows that winning percentage of teams falls as years progress   "
      ],
      "metadata": {
        "id": "8ElDKy_03c67"
      }
    },
    {
      "cell_type": "code",
      "source": [
        "plt.figure(figsize=(10,5))\n",
        "sns.scatterplot(data=df_new, x='TeamLaunch', y='Overall_Winning')\n",
        "plt.xticks(rotation=90)\n",
        "plt.show()"
      ],
      "metadata": {
        "colab": {
          "base_uri": "https://localhost:8080/",
          "height": 518
        },
        "id": "jaC_c9bH2qgG",
        "outputId": "792ae593-466c-4923-9e76-18ea65faac84"
      },
      "execution_count": 22,
      "outputs": [
        {
          "output_type": "display_data",
          "data": {
            "text/plain": [
              "<Figure size 1000x500 with 1 Axes>"
            ],
            "image/png": "[encoded data removed]"
          },
          "metadata": {}
        }
      ]
    },
    {
      "cell_type": "markdown",
      "source": [
        "Plotting for Basket Scored against Tournament Champion\n",
        "This plot shows that the more the tournaments played, the more the basket's scored. Playing more games helps excel the performance"
      ],
      "metadata": {
        "id": "VyZIawIgzj_r"
      }
    },
    {
      "cell_type": "code",
      "source": [
        "plt.figure(figsize=(15,5))\n",
        "sns.lineplot(data=df_new, x='BasketScored', y='TournamentChampion', ci=None)\n",
        "plt.show()"
      ],
      "metadata": {
        "colab": {
          "base_uri": "https://localhost:8080/",
          "height": 552
        },
        "id": "SzrjxehRzjIA",
        "outputId": "f51360b4-ced4-4f24-fbf8-0f0cf93c00b3"
      },
      "execution_count": 14,
      "outputs": [
        {
          "output_type": "stream",
          "name": "stderr",
          "text": [
            "<ipython-input-14-9daf3ecbe955>:2: FutureWarning: \n",
            "\n",
            "The `ci` parameter is deprecated. Use `errorbar=None` for the same effect.\n",
            "\n",
            "  sns.lineplot(data=df_new, x='BasketScored', y='TournamentChampion', ci=None)\n"
          ]
        },
        {
          "output_type": "display_data",
          "data": {
            "text/plain": [
              "<Figure size 1500x500 with 1 Axes>"
            ],
            "image/png": "[encoded data removed]"
          },
          "metadata": {}
        }
      ]
    },
    {
      "cell_type": "markdown",
      "source": [
        "Deriving cross tab for champions and runner up\n",
        "Both tournament and runner-up columns has null values"
      ],
      "metadata": {
        "id": "Na61uHmWz5Rf"
      }
    },
    {
      "cell_type": "code",
      "source": [
        "pd.DataFrame({'Count':df_new.isnull().sum()[df_new.isnull().sum()>0],'Percentage':(df_new.isnull().sum()[df_new.isnull().sum()>0]/df_new.shape[0])*100})"
      ],
      "metadata": {
        "colab": {
          "base_uri": "https://localhost:8080/",
          "height": 112
        },
        "id": "0lasMt14z3n6",
        "outputId": "1c8b1938-eb03-4b95-82b3-1806fd7b76a5"
      },
      "execution_count": 15,
      "outputs": [
        {
          "output_type": "execute_result",
          "data": {
            "text/plain": [
              "                    Count  Percentage\n",
              "TournamentChampion     51   85.000000\n",
              "Runner-up              47   78.333333"
            ],
            "text/html": [
              "\n",
              "  <div id=\"df-c96f3b3e-00ab-4f3a-8f27-f2834fe86460\">\n",
              "    <div class=\"colab-df-container\">\n",
              "      <div>\n",
              "<style scoped>\n",
              "    .dataframe tbody tr th:only-of-type {\n",
              "        vertical-align: middle;\n",
              "    }\n",
              "\n",
              "    .dataframe tbody tr th {\n",
              "        vertical-align: top;\n",
              "    }\n",
              "\n",
              "    .dataframe thead th {\n",
              "        text-align: right;\n",
              "    }\n",
              "</style>\n",
              "<table border=\"1\" class=\"dataframe\">\n",
              "  <thead>\n",
              "    <tr style=\"text-align: right;\">\n",
              "      <th></th>\n",
              "      <th>Count</th>\n",
              "      <th>Percentage</th>\n",
              "    </tr>\n",
              "  </thead>\n",
              "  <tbody>\n",
              "    <tr>\n",
              "      <th>TournamentChampion</th>\n",
              "      <td>51</td>\n",
              "      <td>85.000000</td>\n",
              "    </tr>\n",
              "    <tr>\n",
              "      <th>Runner-up</th>\n",
              "      <td>47</td>\n",
              "      <td>78.333333</td>\n",
              "    </tr>\n",
              "  </tbody>\n",
              "</table>\n",
              "</div>\n",
              "      <button class=\"colab-df-convert\" onclick=\"convertToInteractive('df-c96f3b3e-00ab-4f3a-8f27-f2834fe86460')\"\n",
              "              title=\"Convert this dataframe to an interactive table.\"\n",
              "              style=\"display:none;\">\n",
              "        \n",
              "  <svg xmlns=\"http://www.w3.org/2000/svg\" height=\"24px\"viewBox=\"0 0 24 24\"\n",
              "       width=\"24px\">\n",
              "    <path d=\"M0 0h24v24H0V0z\" fill=\"none\"/>\n",
              "    <path d=\"M18.56 5.44l.94 2.06.94-2.06 2.06-.94-2.06-.94-.94-2.06-.94 2.06-2.06.94zm-11 1L8.5 8.5l.94-2.06 2.06-.94-2.06-.94L8.5 2.5l-.94 2.06-2.06.94zm10 10l.94 2.06.94-2.06 2.06-.94-2.06-.94-.94-2.06-.94 2.06-2.06.94z\"/><path d=\"M17.41 7.96l-1.37-1.37c-.4-.4-.92-.59-1.43-.59-.52 0-1.04.2-1.43.59L10.3 9.45l-7.72 7.72c-.78.78-.78 2.05 0 2.83L4 21.41c.39.39.9.59 1.41.59.51 0 1.02-.2 1.41-.59l7.78-7.78 2.81-2.81c.8-.78.8-2.07 0-2.86zM5.41 20L4 18.59l7.72-7.72 1.47 1.35L5.41 20z\"/>\n",
              "  </svg>\n",
              "      </button>\n",
              "      \n",
              "  <style>\n",
              "    .colab-df-container {\n",
              "      display:flex;\n",
              "      flex-wrap:wrap;\n",
              "      gap: 12px;\n",
              "    }\n",
              "\n",
              "    .colab-df-convert {\n",
              "      background-color: #E8F0FE;\n",
              "      border: none;\n",
              "      border-radius: 50%;\n",
              "      cursor: pointer;\n",
              "      display: none;\n",
              "      fill: #1967D2;\n",
              "      height: 32px;\n",
              "      padding: 0 0 0 0;\n",
              "      width: 32px;\n",
              "    }\n",
              "\n",
              "    .colab-df-convert:hover {\n",
              "      background-color: #E2EBFA;\n",
              "      box-shadow: 0px 1px 2px rgba(60, 64, 67, 0.3), 0px 1px 3px 1px rgba(60, 64, 67, 0.15);\n",
              "      fill: #174EA6;\n",
              "    }\n",
              "\n",
              "    [theme=dark] .colab-df-convert {\n",
              "      background-color: #3B4455;\n",
              "      fill: #D2E3FC;\n",
              "    }\n",
              "\n",
              "    [theme=dark] .colab-df-convert:hover {\n",
              "      background-color: #434B5C;\n",
              "      box-shadow: 0px 1px 3px 1px rgba(0, 0, 0, 0.15);\n",
              "      filter: drop-shadow(0px 1px 2px rgba(0, 0, 0, 0.3));\n",
              "      fill: #FFFFFF;\n",
              "    }\n",
              "  </style>\n",
              "\n",
              "      <script>\n",
              "        const buttonEl =\n",
              "          document.querySelector('#df-c96f3b3e-00ab-4f3a-8f27-f2834fe86460 button.colab-df-convert');\n",
              "        buttonEl.style.display =\n",
              "          google.colab.kernel.accessAllowed ? 'block' : 'none';\n",
              "\n",
              "        async function convertToInteractive(key) {\n",
              "          const element = document.querySelector('#df-c96f3b3e-00ab-4f3a-8f27-f2834fe86460');\n",
              "          const dataTable =\n",
              "            await google.colab.kernel.invokeFunction('convertToInteractive',\n",
              "                                                     [key], {});\n",
              "          if (!dataTable) return;\n",
              "\n",
              "          const docLinkHtml = 'Like what you see? Visit the ' +\n",
              "            '<a target=\"_blank\" href=https://colab.research.google.com/notebooks/data_table.ipynb>data table notebook</a>'\n",
              "            + ' to learn more about interactive tables.';\n",
              "          element.innerHTML = '';\n",
              "          dataTable['output_type'] = 'display_data';\n",
              "          await google.colab.output.renderOutput(dataTable, element);\n",
              "          const docLink = document.createElement('div');\n",
              "          docLink.innerHTML = docLinkHtml;\n",
              "          element.appendChild(docLink);\n",
              "        }\n",
              "      </script>\n",
              "    </div>\n",
              "  </div>\n",
              "  "
            ]
          },
          "metadata": {},
          "execution_count": 15
        }
      ]
    },
    {
      "cell_type": "markdown",
      "source": [
        "Replacing null values in Runner up by median"
      ],
      "metadata": {
        "id": "efaWI_gC01Hn"
      }
    },
    {
      "cell_type": "code",
      "source": [
        "df_new['Runner-up']=df_new['Runner-up'].fillna(value=df_new.groupby(['TeamLaunch'])['Runner-up'].transform('median'))"
      ],
      "metadata": {
        "id": "-QZTaa1T00Ic"
      },
      "execution_count": 16,
      "outputs": []
    },
    {
      "cell_type": "markdown",
      "source": [
        "We can see that the runner up null values count has reduced as we replaced with median value"
      ],
      "metadata": {
        "id": "TXTn7I2U1R8I"
      }
    },
    {
      "cell_type": "code",
      "source": [
        "pd.DataFrame({'Count':df_new.isnull().sum()[df_new.isnull().sum()>0],'Percentage':(df_new.isnull().sum()[df_new.isnull().sum()>0]/df_new.shape[0])*100})"
      ],
      "metadata": {
        "colab": {
          "base_uri": "https://localhost:8080/",
          "height": 112
        },
        "id": "094QPQ5-1Ple",
        "outputId": "faa47f0a-05d6-473f-c529-8d57eb628d24"
      },
      "execution_count": 17,
      "outputs": [
        {
          "output_type": "execute_result",
          "data": {
            "text/plain": [
              "                    Count  Percentage\n",
              "TournamentChampion     51   85.000000\n",
              "Runner-up              42   70.000000"
            ],
            "text/html": [
              "\n",
              "  <div id=\"df-7027fe29-994e-42c9-a21f-410244c3e425\">\n",
              "    <div class=\"colab-df-container\">\n",
              "      <div>\n",
              "<style scoped>\n",
              "    .dataframe tbody tr th:only-of-type {\n",
              "        vertical-align: middle;\n",
              "    }\n",
              "\n",
              "    .dataframe tbody tr th {\n",
              "        vertical-align: top;\n",
              "    }\n",
              "\n",
              "    .dataframe thead th {\n",
              "        text-align: right;\n",
              "    }\n",
              "</style>\n",
              "<table border=\"1\" class=\"dataframe\">\n",
              "  <thead>\n",
              "    <tr style=\"text-align: right;\">\n",
              "      <th></th>\n",
              "      <th>Count</th>\n",
              "      <th>Percentage</th>\n",
              "    </tr>\n",
              "  </thead>\n",
              "  <tbody>\n",
              "    <tr>\n",
              "      <th>TournamentChampion</th>\n",
              "      <td>51</td>\n",
              "      <td>85.000000</td>\n",
              "    </tr>\n",
              "    <tr>\n",
              "      <th>Runner-up</th>\n",
              "      <td>42</td>\n",
              "      <td>70.000000</td>\n",
              "    </tr>\n",
              "  </tbody>\n",
              "</table>\n",
              "</div>\n",
              "      <button class=\"colab-df-convert\" onclick=\"convertToInteractive('df-7027fe29-994e-42c9-a21f-410244c3e425')\"\n",
              "              title=\"Convert this dataframe to an interactive table.\"\n",
              "              style=\"display:none;\">\n",
              "        \n",
              "  <svg xmlns=\"http://www.w3.org/2000/svg\" height=\"24px\"viewBox=\"0 0 24 24\"\n",
              "       width=\"24px\">\n",
              "    <path d=\"M0 0h24v24H0V0z\" fill=\"none\"/>\n",
              "    <path d=\"M18.56 5.44l.94 2.06.94-2.06 2.06-.94-2.06-.94-.94-2.06-.94 2.06-2.06.94zm-11 1L8.5 8.5l.94-2.06 2.06-.94-2.06-.94L8.5 2.5l-.94 2.06-2.06.94zm10 10l.94 2.06.94-2.06 2.06-.94-2.06-.94-.94-2.06-.94 2.06-2.06.94z\"/><path d=\"M17.41 7.96l-1.37-1.37c-.4-.4-.92-.59-1.43-.59-.52 0-1.04.2-1.43.59L10.3 9.45l-7.72 7.72c-.78.78-.78 2.05 0 2.83L4 21.41c.39.39.9.59 1.41.59.51 0 1.02-.2 1.41-.59l7.78-7.78 2.81-2.81c.8-.78.8-2.07 0-2.86zM5.41 20L4 18.59l7.72-7.72 1.47 1.35L5.41 20z\"/>\n",
              "  </svg>\n",
              "      </button>\n",
              "      \n",
              "  <style>\n",
              "    .colab-df-container {\n",
              "      display:flex;\n",
              "      flex-wrap:wrap;\n",
              "      gap: 12px;\n",
              "    }\n",
              "\n",
              "    .colab-df-convert {\n",
              "      background-color: #E8F0FE;\n",
              "      border: none;\n",
              "      border-radius: 50%;\n",
              "      cursor: pointer;\n",
              "      display: none;\n",
              "      fill: #1967D2;\n",
              "      height: 32px;\n",
              "      padding: 0 0 0 0;\n",
              "      width: 32px;\n",
              "    }\n",
              "\n",
              "    .colab-df-convert:hover {\n",
              "      background-color: #E2EBFA;\n",
              "      box-shadow: 0px 1px 2px rgba(60, 64, 67, 0.3), 0px 1px 3px 1px rgba(60, 64, 67, 0.15);\n",
              "      fill: #174EA6;\n",
              "    }\n",
              "\n",
              "    [theme=dark] .colab-df-convert {\n",
              "      background-color: #3B4455;\n",
              "      fill: #D2E3FC;\n",
              "    }\n",
              "\n",
              "    [theme=dark] .colab-df-convert:hover {\n",
              "      background-color: #434B5C;\n",
              "      box-shadow: 0px 1px 3px 1px rgba(0, 0, 0, 0.15);\n",
              "      filter: drop-shadow(0px 1px 2px rgba(0, 0, 0, 0.3));\n",
              "      fill: #FFFFFF;\n",
              "    }\n",
              "  </style>\n",
              "\n",
              "      <script>\n",
              "        const buttonEl =\n",
              "          document.querySelector('#df-7027fe29-994e-42c9-a21f-410244c3e425 button.colab-df-convert');\n",
              "        buttonEl.style.display =\n",
              "          google.colab.kernel.accessAllowed ? 'block' : 'none';\n",
              "\n",
              "        async function convertToInteractive(key) {\n",
              "          const element = document.querySelector('#df-7027fe29-994e-42c9-a21f-410244c3e425');\n",
              "          const dataTable =\n",
              "            await google.colab.kernel.invokeFunction('convertToInteractive',\n",
              "                                                     [key], {});\n",
              "          if (!dataTable) return;\n",
              "\n",
              "          const docLinkHtml = 'Like what you see? Visit the ' +\n",
              "            '<a target=\"_blank\" href=https://colab.research.google.com/notebooks/data_table.ipynb>data table notebook</a>'\n",
              "            + ' to learn more about interactive tables.';\n",
              "          element.innerHTML = '';\n",
              "          dataTable['output_type'] = 'display_data';\n",
              "          await google.colab.output.renderOutput(dataTable, element);\n",
              "          const docLink = document.createElement('div');\n",
              "          docLink.innerHTML = docLinkHtml;\n",
              "          element.appendChild(docLink);\n",
              "        }\n",
              "      </script>\n",
              "    </div>\n",
              "  </div>\n",
              "  "
            ]
          },
          "metadata": {},
          "execution_count": 17
        }
      ]
    },
    {
      "cell_type": "markdown",
      "source": [
        "***Inference*** : As a team plays more tournament, they win more games and scores more basket. As more games are played, the winning % increases. The winning percentage of teams falls as years progress   "
      ],
      "metadata": {
        "id": "NocGiYIm1zHu"
      }
    },
    {
      "cell_type": "markdown",
      "source": [
        "3. Please include any improvements or suggestions to the association management on quality, quantity, variety, velocity, veracity etc. on the \n",
        "data points collected by the association to perform a better data analysis in future."
      ],
      "metadata": {
        "id": "Mjn0KX804CXY"
      }
    },
    {
      "cell_type": "markdown",
      "source": [
        "Improvements and Suggestions for each V\n",
        "\n",
        "**Quantity**: Dataset is very disparate & thinly spread with respect to the information across years. Dataset across smaller range will give better results to analyse. Too many teams to compare loosing the focus of analysis\n",
        "\n",
        "---\n",
        "**Quality**:  Null values in column Tournament champion and Runner up can be avoided. Champions are from the oldest team, but that will be true if we consider history over such long period. \n",
        "\n",
        "---\n",
        "\n",
        "**Variety**: Details on team's performance over the years can be added. Tournament type can be added\n",
        "\n",
        "---\n",
        "\n",
        "**Velocity**:Information about the various matches held across the years could add more value to the data analysis.\n",
        "\n",
        "---\n",
        "\n",
        "**Veracity**: Columns like Basket Scored & Basket Given are not very useful. They can be more useful when a certain teams performance is compared over the years\n",
        "\n",
        "\n",
        "\n"
      ],
      "metadata": {
        "id": "Yy5yn4fs4M81"
      }
    },
    {
      "cell_type": "markdown",
      "source": [
        "** PART C : Startup ecosystem**"
      ],
      "metadata": {
        "id": "sCnusM8w-g11"
      }
    },
    {
      "cell_type": "markdown",
      "source": [
        "C.1. Read the CSV file."
      ],
      "metadata": {
        "id": "Fx2JRWOj-p6g"
      }
    },
    {
      "cell_type": "code",
      "source": [
        "%cd /content/gdrive/My Drive/Colab Notebooks/\n",
        "df2 = pd.read_csv(\"CompanyX_EU.csv\")"
      ],
      "metadata": {
        "colab": {
          "base_uri": "https://localhost:8080/"
        },
        "id": "1YxFfDc8Dzxd",
        "outputId": "169cafb5-1268-4a55-858c-c9634f6d0dc1"
      },
      "execution_count": 6,
      "outputs": [
        {
          "output_type": "stream",
          "name": "stdout",
          "text": [
            "/content/gdrive/My Drive/Colab Notebooks\n"
          ]
        }
      ]
    },
    {
      "cell_type": "markdown",
      "source": [
        "2. A. Check the datatypes of each attribute"
      ],
      "metadata": {
        "id": "uJlx9xLbEKGP"
      }
    },
    {
      "cell_type": "code",
      "source": [
        "df2.info()"
      ],
      "metadata": {
        "colab": {
          "base_uri": "https://localhost:8080/"
        },
        "id": "IRB4LrxbFXvv",
        "outputId": "3f15bed7-2a9c-44c2-cf1c-902dc8b7164a"
      },
      "execution_count": 24,
      "outputs": [
        {
          "output_type": "stream",
          "name": "stdout",
          "text": [
            "<class 'pandas.core.frame.DataFrame'>\n",
            "RangeIndex: 662 entries, 0 to 661\n",
            "Data columns (total 6 columns):\n",
            " #   Column          Non-Null Count  Dtype \n",
            "---  ------          --------------  ----- \n",
            " 0   Startup         662 non-null    object\n",
            " 1   Product         656 non-null    object\n",
            " 2   Funding         448 non-null    object\n",
            " 3   Event           662 non-null    object\n",
            " 4   Result          662 non-null    object\n",
            " 5   OperatingState  662 non-null    object\n",
            "dtypes: object(6)\n",
            "memory usage: 31.2+ KB\n"
          ]
        }
      ]
    },
    {
      "cell_type": "markdown",
      "source": [
        "2. B. Check for null values in the attributes."
      ],
      "metadata": {
        "id": "XrepQ3WUEM2z"
      }
    },
    {
      "cell_type": "code",
      "source": [
        "df2.isnull().sum()"
      ],
      "metadata": {
        "colab": {
          "base_uri": "https://localhost:8080/"
        },
        "id": "Y7rnLg01FdnQ",
        "outputId": "b7787390-1444-40df-9107-ca662ba645b2"
      },
      "execution_count": 25,
      "outputs": [
        {
          "output_type": "execute_result",
          "data": {
            "text/plain": [
              "Startup             0\n",
              "Product             6\n",
              "Funding           214\n",
              "Event               0\n",
              "Result              0\n",
              "OperatingState      0\n",
              "dtype: int64"
            ]
          },
          "metadata": {},
          "execution_count": 25
        }
      ]
    },
    {
      "cell_type": "markdown",
      "source": [
        "3.A. Drop the null values."
      ],
      "metadata": {
        "id": "FOzUx7llEQDe"
      }
    },
    {
      "cell_type": "code",
      "source": [
        "df2.dropna(subset=['Funding', 'Product'], inplace=True)"
      ],
      "metadata": {
        "id": "ALmn5u5xFh-5"
      },
      "execution_count": 7,
      "outputs": []
    },
    {
      "cell_type": "code",
      "source": [
        "df2.isnull().sum()"
      ],
      "metadata": {
        "colab": {
          "base_uri": "https://localhost:8080/"
        },
        "id": "uYVq_zohFnkL",
        "outputId": "8bc1dd50-61fb-4bd3-b8c3-2bdbd48a6239"
      },
      "execution_count": 8,
      "outputs": [
        {
          "output_type": "execute_result",
          "data": {
            "text/plain": [
              "Startup           0\n",
              "Product           0\n",
              "Funding           0\n",
              "Event             0\n",
              "Result            0\n",
              "OperatingState    0\n",
              "dtype: int64"
            ]
          },
          "metadata": {},
          "execution_count": 8
        }
      ]
    },
    {
      "cell_type": "markdown",
      "source": [
        "3. B. Convert the ‘Funding’ features to a numerical value."
      ],
      "metadata": {
        "id": "Hc4c7lGfEU27"
      }
    },
    {
      "cell_type": "code",
      "source": [
        "df2.loc[:,'Funds_in_million'] = df2['Funding'].apply(lambda x: float(x[1:-1])/1000 if x[-1] == 'K' else (float(x[1:-1])*1000 if x[-1] == 'B' else float(x[1:-1])))"
      ],
      "metadata": {
        "id": "Jf-IueDkGCa7"
      },
      "execution_count": 9,
      "outputs": []
    },
    {
      "cell_type": "code",
      "source": [
        "df2.head()"
      ],
      "metadata": {
        "colab": {
          "base_uri": "https://localhost:8080/",
          "height": 206
        },
        "id": "Fofq72aBGGGi",
        "outputId": "4b97999c-6ce2-4f52-cf85-8c7bf00827aa"
      },
      "execution_count": 31,
      "outputs": [
        {
          "output_type": "execute_result",
          "data": {
            "text/plain": [
              "         Startup          Product Funding                      Event  \\\n",
              "1           3DLT         3dlt.com   $630K           Disrupt NYC 2013   \n",
              "3     3Dprintler   3dprintler.com     $1M            Disrupt NY 2016   \n",
              "5           5to1         5to1.com  $19.3M                  TC50 2009   \n",
              "6   8 Securities  8securities.com    $29M       Disrupt Beijing 2011   \n",
              "10    AdhereTech   adheretech.com   $1.8M  Hardware Battlefield 2014   \n",
              "\n",
              "             Result OperatingState  Funds_in_million  \n",
              "1        Contestant         Closed          0.630000  \n",
              "3   Audience choice      Operating          1.000000  \n",
              "5        Contestant       Acquired         19.300000  \n",
              "6          Finalist      Operating         29.000000  \n",
              "10       Contestant      Operating          1.800000  "
            ],
            "text/html": [
              "\n",
              "  <div id=\"df-9d8a63a1-84ed-427e-8c12-5222713c49d2\">\n",
              "    <div class=\"colab-df-container\">\n",
              "      <div>\n",
              "<style scoped>\n",
              "    .dataframe tbody tr th:only-of-type {\n",
              "        vertical-align: middle;\n",
              "    }\n",
              "\n",
              "    .dataframe tbody tr th {\n",
              "        vertical-align: top;\n",
              "    }\n",
              "\n",
              "    .dataframe thead th {\n",
              "        text-align: right;\n",
              "    }\n",
              "</style>\n",
              "<table border=\"1\" class=\"dataframe\">\n",
              "  <thead>\n",
              "    <tr style=\"text-align: right;\">\n",
              "      <th></th>\n",
              "      <th>Startup</th>\n",
              "      <th>Product</th>\n",
              "      <th>Funding</th>\n",
              "      <th>Event</th>\n",
              "      <th>Result</th>\n",
              "      <th>OperatingState</th>\n",
              "      <th>Funds_in_million</th>\n",
              "    </tr>\n",
              "  </thead>\n",
              "  <tbody>\n",
              "    <tr>\n",
              "      <th>1</th>\n",
              "      <td>3DLT</td>\n",
              "      <td>3dlt.com</td>\n",
              "      <td>$630K</td>\n",
              "      <td>Disrupt NYC 2013</td>\n",
              "      <td>Contestant</td>\n",
              "      <td>Closed</td>\n",
              "      <td>0.630000</td>\n",
              "    </tr>\n",
              "    <tr>\n",
              "      <th>3</th>\n",
              "      <td>3Dprintler</td>\n",
              "      <td>3dprintler.com</td>\n",
              "      <td>$1M</td>\n",
              "      <td>Disrupt NY 2016</td>\n",
              "      <td>Audience choice</td>\n",
              "      <td>Operating</td>\n",
              "      <td>1.000000</td>\n",
              "    </tr>\n",
              "    <tr>\n",
              "      <th>5</th>\n",
              "      <td>5to1</td>\n",
              "      <td>5to1.com</td>\n",
              "      <td>$19.3M</td>\n",
              "      <td>TC50 2009</td>\n",
              "      <td>Contestant</td>\n",
              "      <td>Acquired</td>\n",
              "      <td>19.300000</td>\n",
              "    </tr>\n",
              "    <tr>\n",
              "      <th>6</th>\n",
              "      <td>8 Securities</td>\n",
              "      <td>8securities.com</td>\n",
              "      <td>$29M</td>\n",
              "      <td>Disrupt Beijing 2011</td>\n",
              "      <td>Finalist</td>\n",
              "      <td>Operating</td>\n",
              "      <td>29.000000</td>\n",
              "    </tr>\n",
              "    <tr>\n",
              "      <th>10</th>\n",
              "      <td>AdhereTech</td>\n",
              "      <td>adheretech.com</td>\n",
              "      <td>$1.8M</td>\n",
              "      <td>Hardware Battlefield 2014</td>\n",
              "      <td>Contestant</td>\n",
              "      <td>Operating</td>\n",
              "      <td>1.800000</td>\n",
              "    </tr>\n",
              "  </tbody>\n",
              "</table>\n",
              "</div>\n",
              "      <button class=\"colab-df-convert\" onclick=\"convertToInteractive('df-9d8a63a1-84ed-427e-8c12-5222713c49d2')\"\n",
              "              title=\"Convert this dataframe to an interactive table.\"\n",
              "              style=\"display:none;\">\n",
              "        \n",
              "  <svg xmlns=\"http://www.w3.org/2000/svg\" height=\"24px\"viewBox=\"0 0 24 24\"\n",
              "       width=\"24px\">\n",
              "    <path d=\"M0 0h24v24H0V0z\" fill=\"none\"/>\n",
              "    <path d=\"M18.56 5.44l.94 2.06.94-2.06 2.06-.94-2.06-.94-.94-2.06-.94 2.06-2.06.94zm-11 1L8.5 8.5l.94-2.06 2.06-.94-2.06-.94L8.5 2.5l-.94 2.06-2.06.94zm10 10l.94 2.06.94-2.06 2.06-.94-2.06-.94-.94-2.06-.94 2.06-2.06.94z\"/><path d=\"M17.41 7.96l-1.37-1.37c-.4-.4-.92-.59-1.43-.59-.52 0-1.04.2-1.43.59L10.3 9.45l-7.72 7.72c-.78.78-.78 2.05 0 2.83L4 21.41c.39.39.9.59 1.41.59.51 0 1.02-.2 1.41-.59l7.78-7.78 2.81-2.81c.8-.78.8-2.07 0-2.86zM5.41 20L4 18.59l7.72-7.72 1.47 1.35L5.41 20z\"/>\n",
              "  </svg>\n",
              "      </button>\n",
              "      \n",
              "  <style>\n",
              "    .colab-df-container {\n",
              "      display:flex;\n",
              "      flex-wrap:wrap;\n",
              "      gap: 12px;\n",
              "    }\n",
              "\n",
              "    .colab-df-convert {\n",
              "      background-color: #E8F0FE;\n",
              "      border: none;\n",
              "      border-radius: 50%;\n",
              "      cursor: pointer;\n",
              "      display: none;\n",
              "      fill: #1967D2;\n",
              "      height: 32px;\n",
              "      padding: 0 0 0 0;\n",
              "      width: 32px;\n",
              "    }\n",
              "\n",
              "    .colab-df-convert:hover {\n",
              "      background-color: #E2EBFA;\n",
              "      box-shadow: 0px 1px 2px rgba(60, 64, 67, 0.3), 0px 1px 3px 1px rgba(60, 64, 67, 0.15);\n",
              "      fill: #174EA6;\n",
              "    }\n",
              "\n",
              "    [theme=dark] .colab-df-convert {\n",
              "      background-color: #3B4455;\n",
              "      fill: #D2E3FC;\n",
              "    }\n",
              "\n",
              "    [theme=dark] .colab-df-convert:hover {\n",
              "      background-color: #434B5C;\n",
              "      box-shadow: 0px 1px 3px 1px rgba(0, 0, 0, 0.15);\n",
              "      filter: drop-shadow(0px 1px 2px rgba(0, 0, 0, 0.3));\n",
              "      fill: #FFFFFF;\n",
              "    }\n",
              "  </style>\n",
              "\n",
              "      <script>\n",
              "        const buttonEl =\n",
              "          document.querySelector('#df-9d8a63a1-84ed-427e-8c12-5222713c49d2 button.colab-df-convert');\n",
              "        buttonEl.style.display =\n",
              "          google.colab.kernel.accessAllowed ? 'block' : 'none';\n",
              "\n",
              "        async function convertToInteractive(key) {\n",
              "          const element = document.querySelector('#df-9d8a63a1-84ed-427e-8c12-5222713c49d2');\n",
              "          const dataTable =\n",
              "            await google.colab.kernel.invokeFunction('convertToInteractive',\n",
              "                                                     [key], {});\n",
              "          if (!dataTable) return;\n",
              "\n",
              "          const docLinkHtml = 'Like what you see? Visit the ' +\n",
              "            '<a target=\"_blank\" href=https://colab.research.google.com/notebooks/data_table.ipynb>data table notebook</a>'\n",
              "            + ' to learn more about interactive tables.';\n",
              "          element.innerHTML = '';\n",
              "          dataTable['output_type'] = 'display_data';\n",
              "          await google.colab.output.renderOutput(dataTable, element);\n",
              "          const docLink = document.createElement('div');\n",
              "          docLink.innerHTML = docLinkHtml;\n",
              "          element.appendChild(docLink);\n",
              "        }\n",
              "      </script>\n",
              "    </div>\n",
              "  </div>\n",
              "  "
            ]
          },
          "metadata": {},
          "execution_count": 31
        }
      ]
    },
    {
      "cell_type": "markdown",
      "source": [
        "3.C.Box plot for funds in million"
      ],
      "metadata": {
        "id": "ubmX965WEdio"
      }
    },
    {
      "cell_type": "code",
      "source": [
        "sns.set(rc={'figure.figsize':(11,8)})\n",
        "sns.boxplot(data=df2, x='Funds_in_million')\n",
        "plt.show()"
      ],
      "metadata": {
        "colab": {
          "base_uri": "https://localhost:8080/",
          "height": 705
        },
        "id": "GaiulkmoGY_z",
        "outputId": "171df605-f64c-436f-a59c-fd20deaef97a"
      },
      "execution_count": 32,
      "outputs": [
        {
          "output_type": "display_data",
          "data": {
            "text/plain": [
              "<Figure size 1100x800 with 1 Axes>"
            ],
            "image/png": "[encoded data removed]"
          },
          "metadata": {}
        }
      ]
    },
    {
      "cell_type": "markdown",
      "source": [
        "3.D. Check the number of outliers greater than the upper fence."
      ],
      "metadata": {
        "id": "DckSOLI5Ee0e"
      }
    },
    {
      "cell_type": "code",
      "source": [
        "Q1 = np.percentile(df2['Funds_in_million'], 25,method = 'midpoint')\n",
        "print(\"The 25th percentile value = %1.4f\" %Q1)\n",
        " \n",
        "Q3 = np.percentile(df2['Funds_in_million'], 75,method = 'midpoint')\n",
        "print(\"The 75th percentile value = %1.4f\" %Q3)\n",
        "\n",
        "IQR = Q3 - Q1\n",
        "print(\"The Inter Quatile Range value = %1.4f\" %IQR)\n",
        "\n",
        "##Check number of outliers greater than upper fence\n",
        "\n",
        "upper_fence = Q3 +1.5*IQR\n",
        "print(\"The value of the upper fence of the box plot = %1.4f\" %upper_fence)\n",
        "\n",
        "lower_fence = Q1 - 1.5*IQR\n",
        "print(\"The value of the lower fence of the box plot = %1.4f\" %lower_fence)\n"
      ],
      "metadata": {
        "colab": {
          "base_uri": "https://localhost:8080/"
        },
        "id": "jeQkHHsrGiii",
        "outputId": "3dc8f856-4c85-4d9f-ae85-260625b1de81"
      },
      "execution_count": 50,
      "outputs": [
        {
          "output_type": "stream",
          "name": "stdout",
          "text": [
            "The 25th percentile value = 0.5900\n",
            "The 75th percentile value = 5.8000\n",
            "The Inter Quatile Range value = 5.2100\n",
            "The value of the upper fence of the box plot = 13.6150\n",
            "The value of the lower fence of the box plot = -7.2250\n"
          ]
        }
      ]
    },
    {
      "cell_type": "markdown",
      "source": [
        "3.E. Check frequency of the OperatingState features classes."
      ],
      "metadata": {
        "id": "NhyEQiOREiGL"
      }
    },
    {
      "cell_type": "code",
      "source": [
        "df2['OperatingState'].value_counts()"
      ],
      "metadata": {
        "colab": {
          "base_uri": "https://localhost:8080/"
        },
        "id": "2KmeRZUcGnO2",
        "outputId": "b5a25ee3-2816-4fed-f56f-b069f505edef"
      },
      "execution_count": 34,
      "outputs": [
        {
          "output_type": "execute_result",
          "data": {
            "text/plain": [
              "Operating    319\n",
              "Acquired      66\n",
              "Closed        57\n",
              "Ipo            4\n",
              "Name: OperatingState, dtype: int64"
            ]
          },
          "metadata": {},
          "execution_count": 34
        }
      ]
    },
    {
      "cell_type": "markdown",
      "source": [
        "4.A. Is there any significant difference between Funds raised by companies that are still operating vs companies that closed down?\n",
        "\n",
        "4.C. Test for significance and conclusion"
      ],
      "metadata": {
        "id": "y98N8-kBNO8P"
      }
    },
    {
      "cell_type": "code",
      "source": [
        "#filtering out the operating companies and then their funds \n",
        "operatingCompanies = df2[df2['OperatingState']=='Operating']\n",
        "sample_operatingCompanies = operatingCompanies['Funds_in_million']\n",
        "sample_operatingCompanies.head()\n",
        "\n",
        "#filtering out the closed companies and then their funds\n",
        "closedCompanies = df2[df2['OperatingState']=='Closed']\n",
        "sample_closedCompanies = closedCompanies['Funds_in_million']\n",
        "sample_closedCompanies.head()\n",
        "\n",
        "#as we have to compare between 2 samples which are independent i.e. one from operating companies and other from closed companies, we apply t-statistic independent\n",
        "t_statistic, p_value =ttest_ind(sample_operatingCompanies, sample_closedCompanies)\n",
        "print(\"p-value for 2 samples is: \", p_value)\n",
        "\n"
      ],
      "metadata": {
        "colab": {
          "base_uri": "https://localhost:8080/"
        },
        "id": "1NJiw1-PNU1y",
        "outputId": "21c6678e-fb78-4ad8-9f8b-c92d52ac4065"
      },
      "execution_count": 44,
      "outputs": [
        {
          "output_type": "stream",
          "name": "stdout",
          "text": [
            "p-value for 2 samples is:  0.7001987204024389\n"
          ]
        }
      ]
    },
    {
      "cell_type": "markdown",
      "source": [
        "Conclusion: Since the p-value =0.25 is greater than 0.05 (alpha), we fail to reject the null hypothesis"
      ],
      "metadata": {
        "id": "Fa6KNYN7dgfZ"
      }
    },
    {
      "cell_type": "markdown",
      "source": [
        "4.B. Write the null hypothesis and alternative hypothesis"
      ],
      "metadata": {
        "id": "0fh_11U6NVk_"
      }
    },
    {
      "cell_type": "markdown",
      "source": [
        "H0 : **Null Hypothesis**: mean of the funding amounts of the companies that are operating is equal to mean of the funding amounts of the companies that are closed\n",
        "\n",
        "HA : **Alternative Hypothesis**: The mean between two samples is not same"
      ],
      "metadata": {
        "id": "PMCzMTQgae1l"
      }
    },
    {
      "cell_type": "markdown",
      "source": [
        "4.D. Make a copy of the original data frame"
      ],
      "metadata": {
        "id": "STn3kM-7Nfpn"
      }
    },
    {
      "cell_type": "code",
      "source": [
        "df_copy = df2.copy()"
      ],
      "metadata": {
        "id": "6bwxbbW4aw_7"
      },
      "execution_count": 43,
      "outputs": []
    },
    {
      "cell_type": "markdown",
      "source": [
        "4.E. Check frequency distribution of Result variables."
      ],
      "metadata": {
        "id": "n3NdpYesNiKx"
      }
    },
    {
      "cell_type": "code",
      "source": [
        "pd.crosstab(index=df2['Result'], columns='count')"
      ],
      "metadata": {
        "colab": {
          "base_uri": "https://localhost:8080/",
          "height": 237
        },
        "id": "KjdzAD5WN53O",
        "outputId": "2f541a32-cd18-4c1d-a266-99d54ff637c5"
      },
      "execution_count": 37,
      "outputs": [
        {
          "output_type": "execute_result",
          "data": {
            "text/plain": [
              "col_0            count\n",
              "Result                \n",
              "Audience choice     25\n",
              "Contestant         312\n",
              "Finalist            65\n",
              "Runner up           19\n",
              "Winner              25"
            ],
            "text/html": [
              "\n",
              "  <div id=\"df-1fccb731-d331-424e-b006-b8c3783d8667\">\n",
              "    <div class=\"colab-df-container\">\n",
              "      <div>\n",
              "<style scoped>\n",
              "    .dataframe tbody tr th:only-of-type {\n",
              "        vertical-align: middle;\n",
              "    }\n",
              "\n",
              "    .dataframe tbody tr th {\n",
              "        vertical-align: top;\n",
              "    }\n",
              "\n",
              "    .dataframe thead th {\n",
              "        text-align: right;\n",
              "    }\n",
              "</style>\n",
              "<table border=\"1\" class=\"dataframe\">\n",
              "  <thead>\n",
              "    <tr style=\"text-align: right;\">\n",
              "      <th>col_0</th>\n",
              "      <th>count</th>\n",
              "    </tr>\n",
              "    <tr>\n",
              "      <th>Result</th>\n",
              "      <th></th>\n",
              "    </tr>\n",
              "  </thead>\n",
              "  <tbody>\n",
              "    <tr>\n",
              "      <th>Audience choice</th>\n",
              "      <td>25</td>\n",
              "    </tr>\n",
              "    <tr>\n",
              "      <th>Contestant</th>\n",
              "      <td>312</td>\n",
              "    </tr>\n",
              "    <tr>\n",
              "      <th>Finalist</th>\n",
              "      <td>65</td>\n",
              "    </tr>\n",
              "    <tr>\n",
              "      <th>Runner up</th>\n",
              "      <td>19</td>\n",
              "    </tr>\n",
              "    <tr>\n",
              "      <th>Winner</th>\n",
              "      <td>25</td>\n",
              "    </tr>\n",
              "  </tbody>\n",
              "</table>\n",
              "</div>\n",
              "      <button class=\"colab-df-convert\" onclick=\"convertToInteractive('df-1fccb731-d331-424e-b006-b8c3783d8667')\"\n",
              "              title=\"Convert this dataframe to an interactive table.\"\n",
              "              style=\"display:none;\">\n",
              "        \n",
              "  <svg xmlns=\"http://www.w3.org/2000/svg\" height=\"24px\"viewBox=\"0 0 24 24\"\n",
              "       width=\"24px\">\n",
              "    <path d=\"M0 0h24v24H0V0z\" fill=\"none\"/>\n",
              "    <path d=\"M18.56 5.44l.94 2.06.94-2.06 2.06-.94-2.06-.94-.94-2.06-.94 2.06-2.06.94zm-11 1L8.5 8.5l.94-2.06 2.06-.94-2.06-.94L8.5 2.5l-.94 2.06-2.06.94zm10 10l.94 2.06.94-2.06 2.06-.94-2.06-.94-.94-2.06-.94 2.06-2.06.94z\"/><path d=\"M17.41 7.96l-1.37-1.37c-.4-.4-.92-.59-1.43-.59-.52 0-1.04.2-1.43.59L10.3 9.45l-7.72 7.72c-.78.78-.78 2.05 0 2.83L4 21.41c.39.39.9.59 1.41.59.51 0 1.02-.2 1.41-.59l7.78-7.78 2.81-2.81c.8-.78.8-2.07 0-2.86zM5.41 20L4 18.59l7.72-7.72 1.47 1.35L5.41 20z\"/>\n",
              "  </svg>\n",
              "      </button>\n",
              "      \n",
              "  <style>\n",
              "    .colab-df-container {\n",
              "      display:flex;\n",
              "      flex-wrap:wrap;\n",
              "      gap: 12px;\n",
              "    }\n",
              "\n",
              "    .colab-df-convert {\n",
              "      background-color: #E8F0FE;\n",
              "      border: none;\n",
              "      border-radius: 50%;\n",
              "      cursor: pointer;\n",
              "      display: none;\n",
              "      fill: #1967D2;\n",
              "      height: 32px;\n",
              "      padding: 0 0 0 0;\n",
              "      width: 32px;\n",
              "    }\n",
              "\n",
              "    .colab-df-convert:hover {\n",
              "      background-color: #E2EBFA;\n",
              "      box-shadow: 0px 1px 2px rgba(60, 64, 67, 0.3), 0px 1px 3px 1px rgba(60, 64, 67, 0.15);\n",
              "      fill: #174EA6;\n",
              "    }\n",
              "\n",
              "    [theme=dark] .colab-df-convert {\n",
              "      background-color: #3B4455;\n",
              "      fill: #D2E3FC;\n",
              "    }\n",
              "\n",
              "    [theme=dark] .colab-df-convert:hover {\n",
              "      background-color: #434B5C;\n",
              "      box-shadow: 0px 1px 3px 1px rgba(0, 0, 0, 0.15);\n",
              "      filter: drop-shadow(0px 1px 2px rgba(0, 0, 0, 0.3));\n",
              "      fill: #FFFFFF;\n",
              "    }\n",
              "  </style>\n",
              "\n",
              "      <script>\n",
              "        const buttonEl =\n",
              "          document.querySelector('#df-1fccb731-d331-424e-b006-b8c3783d8667 button.colab-df-convert');\n",
              "        buttonEl.style.display =\n",
              "          google.colab.kernel.accessAllowed ? 'block' : 'none';\n",
              "\n",
              "        async function convertToInteractive(key) {\n",
              "          const element = document.querySelector('#df-1fccb731-d331-424e-b006-b8c3783d8667');\n",
              "          const dataTable =\n",
              "            await google.colab.kernel.invokeFunction('convertToInteractive',\n",
              "                                                     [key], {});\n",
              "          if (!dataTable) return;\n",
              "\n",
              "          const docLinkHtml = 'Like what you see? Visit the ' +\n",
              "            '<a target=\"_blank\" href=https://colab.research.google.com/notebooks/data_table.ipynb>data table notebook</a>'\n",
              "            + ' to learn more about interactive tables.';\n",
              "          element.innerHTML = '';\n",
              "          dataTable['output_type'] = 'display_data';\n",
              "          await google.colab.output.renderOutput(dataTable, element);\n",
              "          const docLink = document.createElement('div');\n",
              "          docLink.innerHTML = docLinkHtml;\n",
              "          element.appendChild(docLink);\n",
              "        }\n",
              "      </script>\n",
              "    </div>\n",
              "  </div>\n",
              "  "
            ]
          },
          "metadata": {},
          "execution_count": 37
        }
      ]
    },
    {
      "cell_type": "markdown",
      "source": [
        "4.F. Calculate percentage of winners that are still operating and percentage of contestants that are still operating"
      ],
      "metadata": {
        "id": "YgGuA1aDNpCm"
      }
    },
    {
      "cell_type": "code",
      "source": [
        "Result_filter = df2[df2['Result']=='Winner']\n",
        "state_count = Result_filter['OperatingState'].value_counts()\n",
        "operating_winner = (state_count[0]/state_count.sum())*100\n",
        "print(\"Percentage of winners that are still operating: \", operating_winner)\n",
        "\n",
        "Result_filter = df2[df2['Result']=='Contestant']\n",
        "state_count = Result_filter['OperatingState'].value_counts()\n",
        "operating_contestant = (state_count[0]/state_count.sum())*100\n",
        "print(\"Percentage of contestants that are still operating: \", operating_contestant)"
      ],
      "metadata": {
        "colab": {
          "base_uri": "https://localhost:8080/"
        },
        "id": "p-gyGgXhOBmr",
        "outputId": "67aa4c7b-6d77-413f-9016-2a0c8ba806f4"
      },
      "execution_count": 38,
      "outputs": [
        {
          "output_type": "stream",
          "name": "stdout",
          "text": [
            "Percentage of winners that are still operating:  72.0\n",
            "Percentage of contestants that are still operating:  68.58974358974359\n"
          ]
        }
      ]
    },
    {
      "cell_type": "markdown",
      "source": [
        "4.G. Write your hypothesis comparing the proportion of companies that are operating between winners and contestants:\n",
        "\n",
        "\n"
      ],
      "metadata": {
        "id": "8RDr-upgNsdI"
      }
    },
    {
      "cell_type": "markdown",
      "source": [
        "H0 :** The Null Hypothesis** : The proportions of operating companies between winner vs contestants are equal\n",
        "\n",
        "HA : **The Alternate Hypothesis** : The proportions of operating companies are not equal"
      ],
      "metadata": {
        "id": "YuNQHk2zhANF"
      }
    },
    {
      "cell_type": "markdown",
      "source": [
        "4.H. Test for significance and conclusion"
      ],
      "metadata": {
        "id": "TWwLlcMChoaH"
      }
    },
    {
      "cell_type": "code",
      "source": [
        " # number of operating winners\n",
        "winner = df2[df2['Result'] == 'Winner']\n",
        "Operating_Winner = winner['OperatingState'].value_counts()[0]\n",
        "print(\"Operating_Winner: \",Operating_Winner)\n",
        "\n",
        "# number of operating contestants\n",
        "contestant = df2[df2['Result'] == 'Contestant']\n",
        "Operating_Contestant = contestant['OperatingState'].value_counts()[0]\n",
        "print(\"Operating_Contestant: \",Operating_Contestant)\n",
        "\n",
        "# number of winner - number of rows after filtering and creating winner dataset\n",
        "no_of_winner = winner.shape[0]\n",
        "print(\"no_of_winner: \", no_of_winner)\n",
        "#number of contestants - number of rows after filtering and creating contestant dataset\n",
        "no_of_contestant =contestant.shape[0]\n",
        "print(\"no_of_contestant: \", no_of_contestant)\n",
        "\n",
        "print(f' Proportion of operating companies in Winners,Contestants = {round(Operating_Winner/no_of_winner,2)}, {round(Operating_Contestant/no_of_contestant,2)}')\n",
        "\n",
        "statistics, pval = proportions_ztest([Operating_Winner, Operating_Contestant] , [no_of_winner, no_of_contestant])\n",
        "print(\"The z-test p value = \", pval)\n"
      ],
      "metadata": {
        "colab": {
          "base_uri": "https://localhost:8080/"
        },
        "id": "89R0OxJgpT78",
        "outputId": "d908d4cb-8c16-4bc5-a43d-466fd6a2402e"
      },
      "execution_count": 10,
      "outputs": [
        {
          "output_type": "stream",
          "name": "stdout",
          "text": [
            "Operating_Winner:  18\n",
            "Operating_Contestant:  214\n",
            "no_of_winner:  25\n",
            "no_of_contestant:  312\n",
            " Proportion of operating companies in Winners,Contestants = 0.72, 0.69\n",
            "The z-test p value =  0.7231510556194248\n"
          ]
        }
      ]
    },
    {
      "cell_type": "markdown",
      "source": [
        "4.I. Select only the Event that has ‘disrupt’ keyword from 2013 onwards"
      ],
      "metadata": {
        "id": "5TTB7KK0Nzw1"
      }
    },
    {
      "cell_type": "code",
      "source": [
        "# extracting right 4 character values from Event string\n",
        "df2['Year']= df2['Event'].str[-4:]\n",
        "df2.head(50)\n",
        "# identifying uniqueness in values in Year column\n",
        "df2['Year'].value_counts()\n",
        "\n",
        "#replacing \"-\" with nan\n",
        "df2['Year'] = df2['Year'].replace(['-'],np.nan)\n",
        "\n",
        "#converting year value from float to integer to compare in next step\n",
        "df2['Year']= df2['Year'].astype('float').astype('Int64')\n",
        "df2.info()\n",
        "\n",
        "df2 = df2[(df2['Event'].str.contains(\"Disrupt\")) & (df2['Year'] >= 2013)]\n",
        "df2.head()"
      ],
      "metadata": {
        "colab": {
          "base_uri": "https://localhost:8080/",
          "height": 466
        },
        "id": "vK5Rg4m1ONPX",
        "outputId": "c89b40f0-ed54-4184-fbc1-f0ed9feb6906"
      },
      "execution_count": 42,
      "outputs": [
        {
          "output_type": "stream",
          "name": "stdout",
          "text": [
            "<class 'pandas.core.frame.DataFrame'>\n",
            "Int64Index: 446 entries, 1 to 661\n",
            "Data columns (total 8 columns):\n",
            " #   Column            Non-Null Count  Dtype  \n",
            "---  ------            --------------  -----  \n",
            " 0   Startup           446 non-null    object \n",
            " 1   Product           446 non-null    object \n",
            " 2   Funding           446 non-null    object \n",
            " 3   Event             446 non-null    object \n",
            " 4   Result            446 non-null    object \n",
            " 5   OperatingState    446 non-null    object \n",
            " 6   Funds_in_million  446 non-null    float64\n",
            " 7   Year              440 non-null    Int64  \n",
            "dtypes: Int64(1), float64(1), object(6)\n",
            "memory usage: 31.8+ KB\n"
          ]
        },
        {
          "output_type": "execute_result",
          "data": {
            "text/plain": [
              "       Startup         Product Funding                Event           Result  \\\n",
              "1         3DLT        3dlt.com   $630K     Disrupt NYC 2013       Contestant   \n",
              "3   3Dprintler  3dprintler.com     $1M      Disrupt NY 2016  Audience choice   \n",
              "13    Agrilyst    agrilyst.com     $1M      Disrupt SF 2015           Winner   \n",
              "14       Aiden        aiden.ai   $750K  Disrupt London 2016       Contestant   \n",
              "16     Aircall      aircall.io  $11.6M      Disrupt SF 2015       Contestant   \n",
              "\n",
              "   OperatingState  Funds_in_million  Year  \n",
              "1          Closed          0.630000  2013  \n",
              "3       Operating          1.000000  2016  \n",
              "13      Operating          1.000000  2015  \n",
              "14      Operating          0.750000  2016  \n",
              "16      Operating         11.600000  2015  "
            ],
            "text/html": [
              "\n",
              "  <div id=\"df-97d31f81-ee56-4700-90d9-19ed93077e10\">\n",
              "    <div class=\"colab-df-container\">\n",
              "      <div>\n",
              "<style scoped>\n",
              "    .dataframe tbody tr th:only-of-type {\n",
              "        vertical-align: middle;\n",
              "    }\n",
              "\n",
              "    .dataframe tbody tr th {\n",
              "        vertical-align: top;\n",
              "    }\n",
              "\n",
              "    .dataframe thead th {\n",
              "        text-align: right;\n",
              "    }\n",
              "</style>\n",
              "<table border=\"1\" class=\"dataframe\">\n",
              "  <thead>\n",
              "    <tr style=\"text-align: right;\">\n",
              "      <th></th>\n",
              "      <th>Startup</th>\n",
              "      <th>Product</th>\n",
              "      <th>Funding</th>\n",
              "      <th>Event</th>\n",
              "      <th>Result</th>\n",
              "      <th>OperatingState</th>\n",
              "      <th>Funds_in_million</th>\n",
              "      <th>Year</th>\n",
              "    </tr>\n",
              "  </thead>\n",
              "  <tbody>\n",
              "    <tr>\n",
              "      <th>1</th>\n",
              "      <td>3DLT</td>\n",
              "      <td>3dlt.com</td>\n",
              "      <td>$630K</td>\n",
              "      <td>Disrupt NYC 2013</td>\n",
              "      <td>Contestant</td>\n",
              "      <td>Closed</td>\n",
              "      <td>0.630000</td>\n",
              "      <td>2013</td>\n",
              "    </tr>\n",
              "    <tr>\n",
              "      <th>3</th>\n",
              "      <td>3Dprintler</td>\n",
              "      <td>3dprintler.com</td>\n",
              "      <td>$1M</td>\n",
              "      <td>Disrupt NY 2016</td>\n",
              "      <td>Audience choice</td>\n",
              "      <td>Operating</td>\n",
              "      <td>1.000000</td>\n",
              "      <td>2016</td>\n",
              "    </tr>\n",
              "    <tr>\n",
              "      <th>13</th>\n",
              "      <td>Agrilyst</td>\n",
              "      <td>agrilyst.com</td>\n",
              "      <td>$1M</td>\n",
              "      <td>Disrupt SF 2015</td>\n",
              "      <td>Winner</td>\n",
              "      <td>Operating</td>\n",
              "      <td>1.000000</td>\n",
              "      <td>2015</td>\n",
              "    </tr>\n",
              "    <tr>\n",
              "      <th>14</th>\n",
              "      <td>Aiden</td>\n",
              "      <td>aiden.ai</td>\n",
              "      <td>$750K</td>\n",
              "      <td>Disrupt London 2016</td>\n",
              "      <td>Contestant</td>\n",
              "      <td>Operating</td>\n",
              "      <td>0.750000</td>\n",
              "      <td>2016</td>\n",
              "    </tr>\n",
              "    <tr>\n",
              "      <th>16</th>\n",
              "      <td>Aircall</td>\n",
              "      <td>aircall.io</td>\n",
              "      <td>$11.6M</td>\n",
              "      <td>Disrupt SF 2015</td>\n",
              "      <td>Contestant</td>\n",
              "      <td>Operating</td>\n",
              "      <td>11.600000</td>\n",
              "      <td>2015</td>\n",
              "    </tr>\n",
              "  </tbody>\n",
              "</table>\n",
              "</div>\n",
              "      <button class=\"colab-df-convert\" onclick=\"convertToInteractive('df-97d31f81-ee56-4700-90d9-19ed93077e10')\"\n",
              "              title=\"Convert this dataframe to an interactive table.\"\n",
              "              style=\"display:none;\">\n",
              "        \n",
              "  <svg xmlns=\"http://www.w3.org/2000/svg\" height=\"24px\"viewBox=\"0 0 24 24\"\n",
              "       width=\"24px\">\n",
              "    <path d=\"M0 0h24v24H0V0z\" fill=\"none\"/>\n",
              "    <path d=\"M18.56 5.44l.94 2.06.94-2.06 2.06-.94-2.06-.94-.94-2.06-.94 2.06-2.06.94zm-11 1L8.5 8.5l.94-2.06 2.06-.94-2.06-.94L8.5 2.5l-.94 2.06-2.06.94zm10 10l.94 2.06.94-2.06 2.06-.94-2.06-.94-.94-2.06-.94 2.06-2.06.94z\"/><path d=\"M17.41 7.96l-1.37-1.37c-.4-.4-.92-.59-1.43-.59-.52 0-1.04.2-1.43.59L10.3 9.45l-7.72 7.72c-.78.78-.78 2.05 0 2.83L4 21.41c.39.39.9.59 1.41.59.51 0 1.02-.2 1.41-.59l7.78-7.78 2.81-2.81c.8-.78.8-2.07 0-2.86zM5.41 20L4 18.59l7.72-7.72 1.47 1.35L5.41 20z\"/>\n",
              "  </svg>\n",
              "      </button>\n",
              "      \n",
              "  <style>\n",
              "    .colab-df-container {\n",
              "      display:flex;\n",
              "      flex-wrap:wrap;\n",
              "      gap: 12px;\n",
              "    }\n",
              "\n",
              "    .colab-df-convert {\n",
              "      background-color: #E8F0FE;\n",
              "      border: none;\n",
              "      border-radius: 50%;\n",
              "      cursor: pointer;\n",
              "      display: none;\n",
              "      fill: #1967D2;\n",
              "      height: 32px;\n",
              "      padding: 0 0 0 0;\n",
              "      width: 32px;\n",
              "    }\n",
              "\n",
              "    .colab-df-convert:hover {\n",
              "      background-color: #E2EBFA;\n",
              "      box-shadow: 0px 1px 2px rgba(60, 64, 67, 0.3), 0px 1px 3px 1px rgba(60, 64, 67, 0.15);\n",
              "      fill: #174EA6;\n",
              "    }\n",
              "\n",
              "    [theme=dark] .colab-df-convert {\n",
              "      background-color: #3B4455;\n",
              "      fill: #D2E3FC;\n",
              "    }\n",
              "\n",
              "    [theme=dark] .colab-df-convert:hover {\n",
              "      background-color: #434B5C;\n",
              "      box-shadow: 0px 1px 3px 1px rgba(0, 0, 0, 0.15);\n",
              "      filter: drop-shadow(0px 1px 2px rgba(0, 0, 0, 0.3));\n",
              "      fill: #FFFFFF;\n",
              "    }\n",
              "  </style>\n",
              "\n",
              "      <script>\n",
              "        const buttonEl =\n",
              "          document.querySelector('#df-97d31f81-ee56-4700-90d9-19ed93077e10 button.colab-df-convert');\n",
              "        buttonEl.style.display =\n",
              "          google.colab.kernel.accessAllowed ? 'block' : 'none';\n",
              "\n",
              "        async function convertToInteractive(key) {\n",
              "          const element = document.querySelector('#df-97d31f81-ee56-4700-90d9-19ed93077e10');\n",
              "          const dataTable =\n",
              "            await google.colab.kernel.invokeFunction('convertToInteractive',\n",
              "                                                     [key], {});\n",
              "          if (!dataTable) return;\n",
              "\n",
              "          const docLinkHtml = 'Like what you see? Visit the ' +\n",
              "            '<a target=\"_blank\" href=https://colab.research.google.com/notebooks/data_table.ipynb>data table notebook</a>'\n",
              "            + ' to learn more about interactive tables.';\n",
              "          element.innerHTML = '';\n",
              "          dataTable['output_type'] = 'display_data';\n",
              "          await google.colab.output.renderOutput(dataTable, element);\n",
              "          const docLink = document.createElement('div');\n",
              "          docLink.innerHTML = docLinkHtml;\n",
              "          element.appendChild(docLink);\n",
              "        }\n",
              "      </script>\n",
              "    </div>\n",
              "  </div>\n",
              "  "
            ]
          },
          "metadata": {},
          "execution_count": 42
        }
      ]
    }
  ]
}